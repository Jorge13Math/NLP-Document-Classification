{
 "cells": [
  {
   "cell_type": "markdown",
   "metadata": {},
   "source": [
    "# **This notebook help to create a model to classify a document in new category.**"
   ]
  },
  {
   "cell_type": "markdown",
   "metadata": {},
   "source": [
    "# Imports"
   ]
  },
  {
   "cell_type": "code",
   "execution_count": 1,
   "metadata": {},
   "outputs": [
    {
     "name": "stderr",
     "output_type": "stream",
     "text": [
      "Using TensorFlow backend.\n"
     ]
    }
   ],
   "source": [
    "import os\n",
    "import sys\n",
    "import pandas as pd\n",
    "import numpy as np\n",
    "import logging\n",
    "import matplotlib.pyplot as plt\n",
    "sys.path.append(os.path.realpath('../'))\n",
    "sys.path.append(os.path.realpath('../../'))\n",
    "from scripts.create_dataset import genererate_dataframe\n",
    "from scripts.preprocess_data import Preprocces\n",
    "from scripts.create_model import PreproccesModel\n",
    "import warnings\n",
    "warnings.filterwarnings(\"ignore\")"
   ]
  },
  {
   "cell_type": "code",
   "execution_count": 2,
   "metadata": {},
   "outputs": [],
   "source": [
    "logging.basicConfig(level=logging.INFO,\n",
    "                    format='%(asctime)s[%(name)s][%(levelname)s] %(message)s',\n",
    "                    datefmt='[%Y-%m-%d][%H:%M:%S]')\n",
    "\n",
    "\n",
    "logger = logging.getLogger(__name__)"
   ]
  },
  {
   "cell_type": "code",
   "execution_count": 3,
   "metadata": {},
   "outputs": [],
   "source": [
    "path= '../../dataset/'"
   ]
  },
  {
   "cell_type": "markdown",
   "metadata": {},
   "source": [
    "# Pre-proccesing data"
   ]
  },
  {
   "cell_type": "code",
   "execution_count": 4,
   "metadata": {},
   "outputs": [
    {
     "name": "stderr",
     "output_type": "stream",
     "text": [
      "[2020-11-29][13:48:22][scripts.create_dataset][INFO] Loading files\n",
      "[2020-11-29][13:48:25][scripts.create_dataset][INFO] Dataframe generated\n"
     ]
    }
   ],
   "source": [
    "df = genererate_dataframe(path)"
   ]
  },
  {
   "cell_type": "code",
   "execution_count": 5,
   "metadata": {},
   "outputs": [
    {
     "data": {
      "text/html": [
       "<div>\n",
       "<style scoped>\n",
       "    .dataframe tbody tr th:only-of-type {\n",
       "        vertical-align: middle;\n",
       "    }\n",
       "\n",
       "    .dataframe tbody tr th {\n",
       "        vertical-align: top;\n",
       "    }\n",
       "\n",
       "    .dataframe thead th {\n",
       "        text-align: right;\n",
       "    }\n",
       "</style>\n",
       "<table border=\"1\" class=\"dataframe\">\n",
       "  <thead>\n",
       "    <tr style=\"text-align: right;\">\n",
       "      <th></th>\n",
       "      <th>Text</th>\n",
       "      <th>label</th>\n",
       "      <th>documentName</th>\n",
       "    </tr>\n",
       "  </thead>\n",
       "  <tbody>\n",
       "    <tr>\n",
       "      <th>0</th>\n",
       "      <td>\\nIn article &lt;C4KvJF.4qo@well.sf.ca.us&gt; metare...</td>\n",
       "      <td>exploration</td>\n",
       "      <td>59497</td>\n",
       "    </tr>\n",
       "    <tr>\n",
       "      <th>1</th>\n",
       "      <td>Article-I.D.: cs.constants_733694246\\n\\n\\nCONS...</td>\n",
       "      <td>exploration</td>\n",
       "      <td>59846</td>\n",
       "    </tr>\n",
       "    <tr>\n",
       "      <th>2</th>\n",
       "      <td>Article-I.D.: cs.controversy_733694426\\n\\n\\nCO...</td>\n",
       "      <td>exploration</td>\n",
       "      <td>59848</td>\n",
       "    </tr>\n",
       "    <tr>\n",
       "      <th>3</th>\n",
       "      <td>Article-I.D.: cs.groups_733694492\\n\\n\\nSPACE A...</td>\n",
       "      <td>exploration</td>\n",
       "      <td>59849</td>\n",
       "    </tr>\n",
       "    <tr>\n",
       "      <th>4</th>\n",
       "      <td>Article-I.D.: cs.astronaut_733694515\\n\\n\\nHOW ...</td>\n",
       "      <td>exploration</td>\n",
       "      <td>59850</td>\n",
       "    </tr>\n",
       "  </tbody>\n",
       "</table>\n",
       "</div>"
      ],
      "text/plain": [
       "                                                Text        label documentName\n",
       "0  \\nIn article <C4KvJF.4qo@well.sf.ca.us> metare...  exploration        59497\n",
       "1  Article-I.D.: cs.constants_733694246\\n\\n\\nCONS...  exploration        59846\n",
       "2  Article-I.D.: cs.controversy_733694426\\n\\n\\nCO...  exploration        59848\n",
       "3  Article-I.D.: cs.groups_733694492\\n\\n\\nSPACE A...  exploration        59849\n",
       "4  Article-I.D.: cs.astronaut_733694515\\n\\n\\nHOW ...  exploration        59850"
      ]
     },
     "execution_count": 5,
     "metadata": {},
     "output_type": "execute_result"
    }
   ],
   "source": [
    "df.head()"
   ]
  },
  {
   "cell_type": "code",
   "execution_count": 6,
   "metadata": {},
   "outputs": [
    {
     "data": {
      "text/html": [
       "<div>\n",
       "<style scoped>\n",
       "    .dataframe tbody tr th:only-of-type {\n",
       "        vertical-align: middle;\n",
       "    }\n",
       "\n",
       "    .dataframe tbody tr th {\n",
       "        vertical-align: top;\n",
       "    }\n",
       "\n",
       "    .dataframe thead th {\n",
       "        text-align: right;\n",
       "    }\n",
       "</style>\n",
       "<table border=\"1\" class=\"dataframe\">\n",
       "  <thead>\n",
       "    <tr style=\"text-align: right;\">\n",
       "      <th></th>\n",
       "      <th>Text</th>\n",
       "      <th>label</th>\n",
       "      <th>documentName</th>\n",
       "    </tr>\n",
       "  </thead>\n",
       "  <tbody>\n",
       "    <tr>\n",
       "      <th>3888</th>\n",
       "      <td>\\nAs quoted from &lt;1993Apr17.025258.7013@micros...</td>\n",
       "      <td>weapons</td>\n",
       "      <td>55246</td>\n",
       "    </tr>\n",
       "    <tr>\n",
       "      <th>3889</th>\n",
       "      <td>\\nIn article &lt;2071@rwing.UUCP&gt; pat@rwing.UUCP ...</td>\n",
       "      <td>weapons</td>\n",
       "      <td>55247</td>\n",
       "    </tr>\n",
       "    <tr>\n",
       "      <th>3890</th>\n",
       "      <td>07:24:55 GMT\\n        &lt;1qjmnuINNlmd@cl...</td>\n",
       "      <td>weapons</td>\n",
       "      <td>55473</td>\n",
       "    </tr>\n",
       "    <tr>\n",
       "      <th>3891</th>\n",
       "      <td>\\nAs quoted from &lt;1993Apr18.000152.2339@gnv.if...</td>\n",
       "      <td>weapons</td>\n",
       "      <td>55474</td>\n",
       "    </tr>\n",
       "    <tr>\n",
       "      <th>3892</th>\n",
       "      <td>\\nPoliticians want to eliminate private owners...</td>\n",
       "      <td>weapons</td>\n",
       "      <td>55475</td>\n",
       "    </tr>\n",
       "  </tbody>\n",
       "</table>\n",
       "</div>"
      ],
      "text/plain": [
       "                                                   Text    label documentName\n",
       "3888  \\nAs quoted from <1993Apr17.025258.7013@micros...  weapons        55246\n",
       "3889  \\nIn article <2071@rwing.UUCP> pat@rwing.UUCP ...  weapons        55247\n",
       "3890          07:24:55 GMT\\n        <1qjmnuINNlmd@cl...  weapons        55473\n",
       "3891  \\nAs quoted from <1993Apr18.000152.2339@gnv.if...  weapons        55474\n",
       "3892  \\nPoliticians want to eliminate private owners...  weapons        55475"
      ]
     },
     "execution_count": 6,
     "metadata": {},
     "output_type": "execute_result"
    }
   ],
   "source": [
    "df.tail()"
   ]
  },
  {
   "cell_type": "code",
   "execution_count": 7,
   "metadata": {},
   "outputs": [],
   "source": [
    "preprocces =Preprocces(df)"
   ]
  },
  {
   "cell_type": "code",
   "execution_count": 8,
   "metadata": {},
   "outputs": [
    {
     "name": "stderr",
     "output_type": "stream",
     "text": [
      "[2020-11-29][13:48:25][scripts.preprocess_data][INFO] Shape of dataframe:(3893, 3)\n",
      "[2020-11-29][13:48:25][scripts.preprocess_data][INFO] Checking is there is null values\n",
      "[2020-11-29][13:48:25][scripts.preprocess_data][INFO] Checking duplicates values\n",
      "[2020-11-29][13:48:25][scripts.preprocess_data][INFO] Remove duplicates values: 20\n",
      "[2020-11-29][13:48:25][scripts.preprocess_data][INFO] Clean text\n",
      "[2020-11-29][13:48:25][scripts.preprocess_data][INFO] Remove digits and digits with words example : 460bc --> \"\"\n",
      "[2020-11-29][13:48:25][scripts.preprocess_data][INFO] Transform words to lowercase example: Electronics --> electronics\n",
      "[2020-11-29][13:48:25][scripts.preprocess_data][INFO] Remove special characters example : $# -->\"\" \n",
      "[2020-11-29][13:48:25][scripts.preprocess_data][INFO] Remove words with lenght less than three example : for --> \"\" \n",
      "[2020-11-29][13:48:25][scripts.preprocess_data][INFO] Remove stop words example : the --> \"\" \n",
      "[2020-11-29][13:48:29][scripts.preprocess_data][INFO] Dataframe is cleaned\n",
      "[2020-11-29][13:48:29][scripts.preprocess_data][INFO] Shape of dataframe:(3869, 6)\n"
     ]
    }
   ],
   "source": [
    "df = preprocces.clean_dataframe()"
   ]
  },
  {
   "cell_type": "code",
   "execution_count": 9,
   "metadata": {},
   "outputs": [
    {
     "data": {
      "text/html": [
       "<div>\n",
       "<style scoped>\n",
       "    .dataframe tbody tr th:only-of-type {\n",
       "        vertical-align: middle;\n",
       "    }\n",
       "\n",
       "    .dataframe tbody tr th {\n",
       "        vertical-align: top;\n",
       "    }\n",
       "\n",
       "    .dataframe thead th {\n",
       "        text-align: right;\n",
       "    }\n",
       "</style>\n",
       "<table border=\"1\" class=\"dataframe\">\n",
       "  <thead>\n",
       "    <tr style=\"text-align: right;\">\n",
       "      <th></th>\n",
       "      <th>Text</th>\n",
       "      <th>label</th>\n",
       "      <th>documentName</th>\n",
       "      <th>Cleaned_text</th>\n",
       "      <th>number_words</th>\n",
       "      <th>number_unique_words</th>\n",
       "    </tr>\n",
       "  </thead>\n",
       "  <tbody>\n",
       "    <tr>\n",
       "      <th>0</th>\n",
       "      <td>\\nIn article &lt;C4KvJF.4qo@well.sf.ca.us&gt; metare...</td>\n",
       "      <td>exploration</td>\n",
       "      <td>59497</td>\n",
       "      <td>article flandern writes cameron randale bass w...</td>\n",
       "      <td>97</td>\n",
       "      <td>73</td>\n",
       "    </tr>\n",
       "    <tr>\n",
       "      <th>1</th>\n",
       "      <td>Article-I.D.: cs.constants_733694246\\n\\n\\nCONS...</td>\n",
       "      <td>exploration</td>\n",
       "      <td>59846</td>\n",
       "      <td>article constants equations calculations list ...</td>\n",
       "      <td>362</td>\n",
       "      <td>196</td>\n",
       "    </tr>\n",
       "    <tr>\n",
       "      <th>2</th>\n",
       "      <td>Article-I.D.: cs.controversy_733694426\\n\\n\\nCO...</td>\n",
       "      <td>exploration</td>\n",
       "      <td>59848</td>\n",
       "      <td>article controversial questions issues periodi...</td>\n",
       "      <td>914</td>\n",
       "      <td>616</td>\n",
       "    </tr>\n",
       "    <tr>\n",
       "      <th>3</th>\n",
       "      <td>Article-I.D.: cs.groups_733694492\\n\\n\\nSPACE A...</td>\n",
       "      <td>exploration</td>\n",
       "      <td>59849</td>\n",
       "      <td>article space activist interest research group...</td>\n",
       "      <td>1091</td>\n",
       "      <td>558</td>\n",
       "    </tr>\n",
       "    <tr>\n",
       "      <th>4</th>\n",
       "      <td>Article-I.D.: cs.astronaut_733694515\\n\\n\\nHOW ...</td>\n",
       "      <td>exploration</td>\n",
       "      <td>59850</td>\n",
       "      <td>article astronaut short form authored henry sp...</td>\n",
       "      <td>1021</td>\n",
       "      <td>517</td>\n",
       "    </tr>\n",
       "  </tbody>\n",
       "</table>\n",
       "</div>"
      ],
      "text/plain": [
       "                                                Text        label  \\\n",
       "0  \\nIn article <C4KvJF.4qo@well.sf.ca.us> metare...  exploration   \n",
       "1  Article-I.D.: cs.constants_733694246\\n\\n\\nCONS...  exploration   \n",
       "2  Article-I.D.: cs.controversy_733694426\\n\\n\\nCO...  exploration   \n",
       "3  Article-I.D.: cs.groups_733694492\\n\\n\\nSPACE A...  exploration   \n",
       "4  Article-I.D.: cs.astronaut_733694515\\n\\n\\nHOW ...  exploration   \n",
       "\n",
       "  documentName                                       Cleaned_text  \\\n",
       "0        59497  article flandern writes cameron randale bass w...   \n",
       "1        59846  article constants equations calculations list ...   \n",
       "2        59848  article controversial questions issues periodi...   \n",
       "3        59849  article space activist interest research group...   \n",
       "4        59850  article astronaut short form authored henry sp...   \n",
       "\n",
       "   number_words  number_unique_words  \n",
       "0            97                   73  \n",
       "1           362                  196  \n",
       "2           914                  616  \n",
       "3          1091                  558  \n",
       "4          1021                  517  "
      ]
     },
     "execution_count": 9,
     "metadata": {},
     "output_type": "execute_result"
    }
   ],
   "source": [
    "df.head()"
   ]
  },
  {
   "cell_type": "code",
   "execution_count": 10,
   "metadata": {},
   "outputs": [
    {
     "data": {
      "text/html": [
       "<div>\n",
       "<style scoped>\n",
       "    .dataframe tbody tr th:only-of-type {\n",
       "        vertical-align: middle;\n",
       "    }\n",
       "\n",
       "    .dataframe tbody tr th {\n",
       "        vertical-align: top;\n",
       "    }\n",
       "\n",
       "    .dataframe thead th {\n",
       "        text-align: right;\n",
       "    }\n",
       "</style>\n",
       "<table border=\"1\" class=\"dataframe\">\n",
       "  <thead>\n",
       "    <tr style=\"text-align: right;\">\n",
       "      <th></th>\n",
       "      <th>Text</th>\n",
       "      <th>label</th>\n",
       "      <th>documentName</th>\n",
       "      <th>Cleaned_text</th>\n",
       "      <th>number_words</th>\n",
       "      <th>number_unique_words</th>\n",
       "    </tr>\n",
       "  </thead>\n",
       "  <tbody>\n",
       "    <tr>\n",
       "      <th>3864</th>\n",
       "      <td>\\nAs quoted from &lt;1993Apr17.025258.7013@micros...</td>\n",
       "      <td>weapons</td>\n",
       "      <td>55246</td>\n",
       "      <td>quoted anthony francisco cmort anybody wanted ...</td>\n",
       "      <td>68</td>\n",
       "      <td>64</td>\n",
       "    </tr>\n",
       "    <tr>\n",
       "      <th>3865</th>\n",
       "      <td>\\nIn article &lt;2071@rwing.UUCP&gt; pat@rwing.UUCP ...</td>\n",
       "      <td>weapons</td>\n",
       "      <td>55247</td>\n",
       "      <td>article myrto writes find hard understand come...</td>\n",
       "      <td>57</td>\n",
       "      <td>53</td>\n",
       "    </tr>\n",
       "    <tr>\n",
       "      <th>3866</th>\n",
       "      <td>07:24:55 GMT\\n        &lt;1qjmnuINNlmd@cl...</td>\n",
       "      <td>weapons</td>\n",
       "      <td>55473</td>\n",
       "      <td>clubs member borrow weapons suprised supposed ...</td>\n",
       "      <td>184</td>\n",
       "      <td>131</td>\n",
       "    </tr>\n",
       "    <tr>\n",
       "      <th>3867</th>\n",
       "      <td>\\nAs quoted from &lt;1993Apr18.000152.2339@gnv.if...</td>\n",
       "      <td>weapons</td>\n",
       "      <td>55474</td>\n",
       "      <td>quoted press public voting public flow history...</td>\n",
       "      <td>76</td>\n",
       "      <td>60</td>\n",
       "    </tr>\n",
       "    <tr>\n",
       "      <th>3868</th>\n",
       "      <td>\\nPoliticians want to eliminate private owners...</td>\n",
       "      <td>weapons</td>\n",
       "      <td>55475</td>\n",
       "      <td>politicians want eliminate private ownership g...</td>\n",
       "      <td>45</td>\n",
       "      <td>40</td>\n",
       "    </tr>\n",
       "  </tbody>\n",
       "</table>\n",
       "</div>"
      ],
      "text/plain": [
       "                                                   Text    label documentName  \\\n",
       "3864  \\nAs quoted from <1993Apr17.025258.7013@micros...  weapons        55246   \n",
       "3865  \\nIn article <2071@rwing.UUCP> pat@rwing.UUCP ...  weapons        55247   \n",
       "3866          07:24:55 GMT\\n        <1qjmnuINNlmd@cl...  weapons        55473   \n",
       "3867  \\nAs quoted from <1993Apr18.000152.2339@gnv.if...  weapons        55474   \n",
       "3868  \\nPoliticians want to eliminate private owners...  weapons        55475   \n",
       "\n",
       "                                           Cleaned_text  number_words  \\\n",
       "3864  quoted anthony francisco cmort anybody wanted ...            68   \n",
       "3865  article myrto writes find hard understand come...            57   \n",
       "3866  clubs member borrow weapons suprised supposed ...           184   \n",
       "3867  quoted press public voting public flow history...            76   \n",
       "3868  politicians want eliminate private ownership g...            45   \n",
       "\n",
       "      number_unique_words  \n",
       "3864                   64  \n",
       "3865                   53  \n",
       "3866                  131  \n",
       "3867                   60  \n",
       "3868                   40  "
      ]
     },
     "execution_count": 10,
     "metadata": {},
     "output_type": "execute_result"
    }
   ],
   "source": [
    "df.tail()"
   ]
  },
  {
   "cell_type": "markdown",
   "metadata": {},
   "source": [
    "Now there are some statistics and graphics about the data"
   ]
  },
  {
   "cell_type": "code",
   "execution_count": 11,
   "metadata": {},
   "outputs": [
    {
     "data": {
      "image/png": "[encoded data removed]",
      "text/plain": [
       "<Figure size 576x360 with 1 Axes>"
      ]
     },
     "metadata": {
      "needs_background": "light"
     },
     "output_type": "display_data"
    }
   ],
   "source": [
    "preprocces.plot_categories(df)"
   ]
  },
  {
   "cell_type": "code",
   "execution_count": 12,
   "metadata": {},
   "outputs": [
    {
     "name": "stderr",
     "output_type": "stream",
     "text": [
      "[2020-11-29][13:48:29][scripts.preprocess_data][INFO] Total of Unique words in text :32352\n",
      "[2020-11-29][13:48:29][scripts.preprocess_data][INFO] Total of words in text :433695\n"
     ]
    }
   ],
   "source": [
    "stats_words = preprocces.stast_df(df)"
   ]
  },
  {
   "cell_type": "code",
   "execution_count": 13,
   "metadata": {},
   "outputs": [
    {
     "data": {
      "image/png": "[encoded data removed]",
      "text/plain": [
       "<Figure size 576x360 with 1 Axes>"
      ]
     },
     "metadata": {
      "needs_background": "light"
     },
     "output_type": "display_data"
    }
   ],
   "source": [
    "preprocces.plot_common_words(stats_words['count_words'])"
   ]
  },
  {
   "cell_type": "code",
   "execution_count": 14,
   "metadata": {},
   "outputs": [
    {
     "data": {
      "image/png": "[encoded data removed]",
      "text/plain": [
       "<Figure size 576x360 with 1 Axes>"
      ]
     },
     "metadata": {
      "needs_background": "light"
     },
     "output_type": "display_data"
    }
   ],
   "source": [
    "preprocces.plot_less_common_words(stats_words['count_words'])"
   ]
  },
  {
   "cell_type": "code",
   "execution_count": 15,
   "metadata": {},
   "outputs": [
    {
     "data": {
      "text/plain": [
       "<AxesSubplot:>"
      ]
     },
     "execution_count": 15,
     "metadata": {},
     "output_type": "execute_result"
    },
    {
     "data": {
      "image/png": "[encoded data removed]",
      "text/plain": [
       "<Figure size 432x288 with 1 Axes>"
      ]
     },
     "metadata": {
      "needs_background": "light"
     },
     "output_type": "display_data"
    }
   ],
   "source": [
    "df.boxplot(column=['number_words'])"
   ]
  },
  {
   "cell_type": "markdown",
   "metadata": {},
   "source": [
    "Mean words per document"
   ]
  },
  {
   "cell_type": "code",
   "execution_count": 16,
   "metadata": {},
   "outputs": [
    {
     "data": {
      "text/plain": [
       "112.09485655208064"
      ]
     },
     "execution_count": 16,
     "metadata": {},
     "output_type": "execute_result"
    }
   ],
   "source": [
    "np.mean(df['number_words'])"
   ]
  },
  {
   "cell_type": "code",
   "execution_count": 17,
   "metadata": {},
   "outputs": [
    {
     "data": {
      "text/plain": [
       "<AxesSubplot:>"
      ]
     },
     "execution_count": 17,
     "metadata": {},
     "output_type": "execute_result"
    },
    {
     "data": {
      "image/png": "[encoded data removed]",
      "text/plain": [
       "<Figure size 432x288 with 1 Axes>"
      ]
     },
     "metadata": {
      "needs_background": "light"
     },
     "output_type": "display_data"
    }
   ],
   "source": [
    "df.boxplot(column=['number_unique_words'])"
   ]
  },
  {
   "cell_type": "markdown",
   "metadata": {},
   "source": [
    "Mean of unique words for document"
   ]
  },
  {
   "cell_type": "code",
   "execution_count": 18,
   "metadata": {},
   "outputs": [
    {
     "data": {
      "text/plain": [
       "79.30602222796588"
      ]
     },
     "execution_count": 18,
     "metadata": {},
     "output_type": "execute_result"
    }
   ],
   "source": [
    "np.mean(df['number_unique_words'])"
   ]
  },
  {
   "cell_type": "code",
   "execution_count": 19,
   "metadata": {},
   "outputs": [
    {
     "data": {
      "text/html": [
       "<div>\n",
       "<style scoped>\n",
       "    .dataframe tbody tr th:only-of-type {\n",
       "        vertical-align: middle;\n",
       "    }\n",
       "\n",
       "    .dataframe tbody tr th {\n",
       "        vertical-align: top;\n",
       "    }\n",
       "\n",
       "    .dataframe thead th {\n",
       "        text-align: right;\n",
       "    }\n",
       "</style>\n",
       "<table border=\"1\" class=\"dataframe\">\n",
       "  <thead>\n",
       "    <tr style=\"text-align: right;\">\n",
       "      <th></th>\n",
       "      <th>Text</th>\n",
       "      <th>label</th>\n",
       "      <th>documentName</th>\n",
       "      <th>Cleaned_text</th>\n",
       "      <th>number_words</th>\n",
       "      <th>number_unique_words</th>\n",
       "    </tr>\n",
       "  </thead>\n",
       "  <tbody>\n",
       "    <tr>\n",
       "      <th>0</th>\n",
       "      <td>\\nIn article &lt;C4KvJF.4qo@well.sf.ca.us&gt; metare...</td>\n",
       "      <td>exploration</td>\n",
       "      <td>59497</td>\n",
       "      <td>article flandern writes cameron randale bass w...</td>\n",
       "      <td>97</td>\n",
       "      <td>73</td>\n",
       "    </tr>\n",
       "    <tr>\n",
       "      <th>12</th>\n",
       "      <td>\\n\\nORBITAL AND PLANETARY LAUNCH SERVICES\\n\\nT...</td>\n",
       "      <td>exploration</td>\n",
       "      <td>59906</td>\n",
       "      <td>orbital planetary launch services following da...</td>\n",
       "      <td>159</td>\n",
       "      <td>102</td>\n",
       "    </tr>\n",
       "    <tr>\n",
       "      <th>18</th>\n",
       "      <td>Article-I.D.: zoo.C51875.67p\\n\\nIn article &lt;C5...</td>\n",
       "      <td>exploration</td>\n",
       "      <td>60151</td>\n",
       "      <td>article article josh hopkins writes titan laun...</td>\n",
       "      <td>89</td>\n",
       "      <td>71</td>\n",
       "    </tr>\n",
       "    <tr>\n",
       "      <th>19</th>\n",
       "      <td>\\nIn article &lt;C50zxA.1K9@zoo.toronto.edu&gt; henr...</td>\n",
       "      <td>exploration</td>\n",
       "      <td>60153</td>\n",
       "      <td>article henry spencer writes article writes th...</td>\n",
       "      <td>93</td>\n",
       "      <td>74</td>\n",
       "    </tr>\n",
       "    <tr>\n",
       "      <th>20</th>\n",
       "      <td>\\nI have the \"osculating elements at perigee\" ...</td>\n",
       "      <td>exploration</td>\n",
       "      <td>60154</td>\n",
       "      <td>osculating elements perigee orbit need convert...</td>\n",
       "      <td>46</td>\n",
       "      <td>43</td>\n",
       "    </tr>\n",
       "    <tr>\n",
       "      <th>...</th>\n",
       "      <td>...</td>\n",
       "      <td>...</td>\n",
       "      <td>...</td>\n",
       "      <td>...</td>\n",
       "      <td>...</td>\n",
       "      <td>...</td>\n",
       "    </tr>\n",
       "    <tr>\n",
       "      <th>3864</th>\n",
       "      <td>\\nAs quoted from &lt;1993Apr17.025258.7013@micros...</td>\n",
       "      <td>weapons</td>\n",
       "      <td>55246</td>\n",
       "      <td>quoted anthony francisco cmort anybody wanted ...</td>\n",
       "      <td>68</td>\n",
       "      <td>64</td>\n",
       "    </tr>\n",
       "    <tr>\n",
       "      <th>3865</th>\n",
       "      <td>\\nIn article &lt;2071@rwing.UUCP&gt; pat@rwing.UUCP ...</td>\n",
       "      <td>weapons</td>\n",
       "      <td>55247</td>\n",
       "      <td>article myrto writes find hard understand come...</td>\n",
       "      <td>57</td>\n",
       "      <td>53</td>\n",
       "    </tr>\n",
       "    <tr>\n",
       "      <th>3866</th>\n",
       "      <td>07:24:55 GMT\\n        &lt;1qjmnuINNlmd@cl...</td>\n",
       "      <td>weapons</td>\n",
       "      <td>55473</td>\n",
       "      <td>clubs member borrow weapons suprised supposed ...</td>\n",
       "      <td>184</td>\n",
       "      <td>131</td>\n",
       "    </tr>\n",
       "    <tr>\n",
       "      <th>3867</th>\n",
       "      <td>\\nAs quoted from &lt;1993Apr18.000152.2339@gnv.if...</td>\n",
       "      <td>weapons</td>\n",
       "      <td>55474</td>\n",
       "      <td>quoted press public voting public flow history...</td>\n",
       "      <td>76</td>\n",
       "      <td>60</td>\n",
       "    </tr>\n",
       "    <tr>\n",
       "      <th>3868</th>\n",
       "      <td>\\nPoliticians want to eliminate private owners...</td>\n",
       "      <td>weapons</td>\n",
       "      <td>55475</td>\n",
       "      <td>politicians want eliminate private ownership g...</td>\n",
       "      <td>45</td>\n",
       "      <td>40</td>\n",
       "    </tr>\n",
       "  </tbody>\n",
       "</table>\n",
       "<p>3581 rows × 6 columns</p>\n",
       "</div>"
      ],
      "text/plain": [
       "                                                   Text        label  \\\n",
       "0     \\nIn article <C4KvJF.4qo@well.sf.ca.us> metare...  exploration   \n",
       "12    \\n\\nORBITAL AND PLANETARY LAUNCH SERVICES\\n\\nT...  exploration   \n",
       "18    Article-I.D.: zoo.C51875.67p\\n\\nIn article <C5...  exploration   \n",
       "19    \\nIn article <C50zxA.1K9@zoo.toronto.edu> henr...  exploration   \n",
       "20    \\nI have the \"osculating elements at perigee\" ...  exploration   \n",
       "...                                                 ...          ...   \n",
       "3864  \\nAs quoted from <1993Apr17.025258.7013@micros...      weapons   \n",
       "3865  \\nIn article <2071@rwing.UUCP> pat@rwing.UUCP ...      weapons   \n",
       "3866          07:24:55 GMT\\n        <1qjmnuINNlmd@cl...      weapons   \n",
       "3867  \\nAs quoted from <1993Apr18.000152.2339@gnv.if...      weapons   \n",
       "3868  \\nPoliticians want to eliminate private owners...      weapons   \n",
       "\n",
       "     documentName                                       Cleaned_text  \\\n",
       "0           59497  article flandern writes cameron randale bass w...   \n",
       "12          59906  orbital planetary launch services following da...   \n",
       "18          60151  article article josh hopkins writes titan laun...   \n",
       "19          60153  article henry spencer writes article writes th...   \n",
       "20          60154  osculating elements perigee orbit need convert...   \n",
       "...           ...                                                ...   \n",
       "3864        55246  quoted anthony francisco cmort anybody wanted ...   \n",
       "3865        55247  article myrto writes find hard understand come...   \n",
       "3866        55473  clubs member borrow weapons suprised supposed ...   \n",
       "3867        55474  quoted press public voting public flow history...   \n",
       "3868        55475  politicians want eliminate private ownership g...   \n",
       "\n",
       "      number_words  number_unique_words  \n",
       "0               97                   73  \n",
       "12             159                  102  \n",
       "18              89                   71  \n",
       "19              93                   74  \n",
       "20              46                   43  \n",
       "...            ...                  ...  \n",
       "3864            68                   64  \n",
       "3865            57                   53  \n",
       "3866           184                  131  \n",
       "3867            76                   60  \n",
       "3868            45                   40  \n",
       "\n",
       "[3581 rows x 6 columns]"
      ]
     },
     "execution_count": 19,
     "metadata": {},
     "output_type": "execute_result"
    }
   ],
   "source": [
    "df[df['number_words']<250]"
   ]
  },
  {
   "cell_type": "markdown",
   "metadata": {},
   "source": [
    "Percentage of documents that have at least 250 words"
   ]
  },
  {
   "cell_type": "code",
   "execution_count": 20,
   "metadata": {},
   "outputs": [
    {
     "data": {
      "text/plain": [
       "92.55621607650556"
      ]
     },
     "execution_count": 20,
     "metadata": {},
     "output_type": "execute_result"
    }
   ],
   "source": [
    "df[df['number_words']<250].shape[0]*100/df.shape[0]"
   ]
  },
  {
   "cell_type": "markdown",
   "metadata": {},
   "source": [
    "Percentage of documents that have at least 200 words"
   ]
  },
  {
   "cell_type": "code",
   "execution_count": 21,
   "metadata": {},
   "outputs": [
    {
     "data": {
      "text/plain": [
       "90.02326182476092"
      ]
     },
     "execution_count": 21,
     "metadata": {},
     "output_type": "execute_result"
    }
   ],
   "source": [
    "df[df['number_words']<200].shape[0]*100/df.shape[0]"
   ]
  },
  {
   "cell_type": "markdown",
   "metadata": {},
   "source": [
    "# Prepare text for train the Model"
   ]
  },
  {
   "cell_type": "code",
   "execution_count": 22,
   "metadata": {},
   "outputs": [],
   "source": [
    "import pickle\n",
    "import keras\n",
    "from sklearn.feature_extraction.text import TfidfVectorizer\n",
    "\n",
    "from sklearn.model_selection import cross_val_score\n",
    "from sklearn.model_selection import cross_val_predict\n",
    "from sklearn.model_selection import train_test_split\n",
    "from sklearn.model_selection import KFold\n",
    "\n",
    "from sklearn import metrics\n",
    "from sklearn.metrics import classification_report\n",
    "from sklearn.metrics import confusion_matrix\n",
    "from sklearn.metrics import precision_recall_curve\n",
    "from sklearn.metrics import multilabel_confusion_matrix\n",
    "\n",
    "from sklearn.preprocessing import LabelEncoder\n",
    "from sklearn.preprocessing import LabelBinarizer\n",
    "\n",
    "from keras.preprocessing.text import Tokenizer\n",
    "from keras.preprocessing.sequence import pad_sequences\n",
    "from keras.models import Sequential\n",
    "from keras.layers import LSTM,Dense,Dropout,Embedding,Bidirectional\n",
    "from keras.preprocessing.text import Tokenizer\n",
    "from keras.preprocessing.sequence import pad_sequences\n",
    "from keras.models import Sequential\n",
    "from keras.layers import Embedding\n",
    "from keras import layers\n",
    "from keras import Input\n",
    "from keras import Model\n",
    "from keras.wrappers.scikit_learn import KerasClassifier\n",
    "from keras.callbacks import ModelCheckpoint, EarlyStopping\n",
    "from keras.models import load_model"
   ]
  },
  {
   "cell_type": "code",
   "execution_count": 23,
   "metadata": {},
   "outputs": [
    {
     "data": {
      "text/plain": [
       "array([[1, 0, 0, ..., 0, 0, 0],\n",
       "       [1, 0, 0, ..., 0, 0, 0],\n",
       "       [1, 0, 0, ..., 0, 0, 0],\n",
       "       ...,\n",
       "       [0, 0, 0, ..., 0, 0, 1],\n",
       "       [0, 0, 0, ..., 0, 0, 1],\n",
       "       [0, 0, 0, ..., 0, 0, 1]])"
      ]
     },
     "execution_count": 23,
     "metadata": {},
     "output_type": "execute_result"
    }
   ],
   "source": [
    "lb = LabelBinarizer()\n",
    "label = lb.fit_transform(df.label.to_list())\n",
    "label"
   ]
  },
  {
   "cell_type": "markdown",
   "metadata": {},
   "source": [
    "Saving LabelBinarizer in pickle"
   ]
  },
  {
   "cell_type": "code",
   "execution_count": 24,
   "metadata": {},
   "outputs": [],
   "source": [
    "try:\n",
    "    lb = pickle.load(open('../../models/label.pickle','rb'))\n",
    "except Exception:\n",
    "    pickle.dump(lb, open('../../models/label.pickle', 'wb'))\n"
   ]
  },
  {
   "cell_type": "markdown",
   "metadata": {},
   "source": [
    "following the previous percentage, it is selected as **MAX_SEQUENCE_LENGTH = 250**"
   ]
  },
  {
   "cell_type": "code",
   "execution_count": 25,
   "metadata": {},
   "outputs": [],
   "source": [
    "MAX_NB_WORDS= len(stats_words['unique_words'])\n",
    "MAX_SEQUENCE_LENGTH = 250\n",
    "EMBEDDING_DIM = 100"
   ]
  },
  {
   "cell_type": "code",
   "execution_count": 26,
   "metadata": {},
   "outputs": [],
   "source": [
    "tokenizer = Tokenizer(nb_words=MAX_NB_WORDS)\n",
    "tokenizer.fit_on_texts(df.Cleaned_text)\n",
    "sequences = tokenizer.texts_to_sequences(df.Cleaned_text)\n",
    "\n"
   ]
  },
  {
   "cell_type": "code",
   "execution_count": 27,
   "metadata": {},
   "outputs": [],
   "source": [
    "try:\n",
    "    token = pickle.load(open('../../models/tokenizer.pickle','rb'))\n",
    "except Exception:\n",
    "    pickle.dump(tokenizer, open('../../models/tokenizer.pickle', 'wb'))"
   ]
  },
  {
   "cell_type": "code",
   "execution_count": 28,
   "metadata": {},
   "outputs": [
    {
     "name": "stdout",
     "output_type": "stream",
     "text": [
      "Found 32258 unique tokens.\n"
     ]
    }
   ],
   "source": [
    "word_index = tokenizer.word_index\n",
    "print('Found %s unique tokens.' % len(word_index))\n",
    "\n",
    "data= pad_sequences(sequences, maxlen=MAX_SEQUENCE_LENGTH)"
   ]
  },
  {
   "cell_type": "code",
   "execution_count": 29,
   "metadata": {},
   "outputs": [
    {
     "data": {
      "text/plain": [
       "array([[    0,     0,     0, ...,     7,     7,   345],\n",
       "       [   66,     9, 20321, ..., 10799,  2981,   487],\n",
       "       [10809,  1928,  5283, ..., 15387,  3268,   456],\n",
       "       ...,\n",
       "       [    0,     0,     0, ...,   375,   444,  2882],\n",
       "       [    0,     0,     0, ...,  4719,  7115,  7700],\n",
       "       [    0,     0,     0, ...,   286,   539,   790]])"
      ]
     },
     "execution_count": 29,
     "metadata": {},
     "output_type": "execute_result"
    }
   ],
   "source": [
    "data"
   ]
  },
  {
   "cell_type": "code",
   "execution_count": 30,
   "metadata": {},
   "outputs": [
    {
     "data": {
      "text/plain": [
       "(3869, 250)"
      ]
     },
     "execution_count": 30,
     "metadata": {},
     "output_type": "execute_result"
    }
   ],
   "source": [
    "data.shape"
   ]
  },
  {
   "cell_type": "markdown",
   "metadata": {},
   "source": [
    "Split data to train the model"
   ]
  },
  {
   "cell_type": "code",
   "execution_count": 31,
   "metadata": {},
   "outputs": [],
   "source": [
    "X_Train, X_Test, Y_Train, Y_Test = [],[],[],[]\n",
    "for labels in set(df.label):\n",
    "    x = df[df.label==labels]['Cleaned_text']\n",
    "    y = df[df.label == labels]['label']\n",
    "    x_train, x_test, y_train, y_test = train_test_split(x, y, test_size= 0.2,shuffle=True,random_state =0)\n",
    "    \n",
    "    X_Train.append(x_train)\n",
    "    X_Test.append(x_test)\n",
    "    Y_Train.append(y_train)\n",
    "    Y_Test.append(y_test)\n",
    "X_Train = pd.concat(X_Train)\n",
    "X_Test = pd.concat(X_Test)\n",
    "Y_Train = pd.concat(Y_Train)\n",
    "Y_Test = pd.concat(Y_Test)"
   ]
  },
  {
   "cell_type": "code",
   "execution_count": 32,
   "metadata": {},
   "outputs": [
    {
     "data": {
      "text/plain": [
       "Int64Index([2407, 2218, 2651, 2569, 2333, 2390, 2246, 2729, 2522, 2561,\n",
       "            ...\n",
       "            1078,  906,  988, 1064,  662,  869,  601,  951,  784, 1151],\n",
       "           dtype='int64', length=3092)"
      ]
     },
     "execution_count": 32,
     "metadata": {},
     "output_type": "execute_result"
    }
   ],
   "source": [
    "X_Train.index"
   ]
  },
  {
   "cell_type": "code",
   "execution_count": 33,
   "metadata": {},
   "outputs": [
    {
     "data": {
      "text/plain": [
       "Int64Index([2407, 2218, 2651, 2569, 2333, 2390, 2246, 2729, 2522, 2561,\n",
       "            ...\n",
       "            1078,  906,  988, 1064,  662,  869,  601,  951,  784, 1151],\n",
       "           dtype='int64', length=3092)"
      ]
     },
     "execution_count": 33,
     "metadata": {},
     "output_type": "execute_result"
    }
   ],
   "source": [
    "Y_Train.index"
   ]
  },
  {
   "cell_type": "code",
   "execution_count": 34,
   "metadata": {},
   "outputs": [],
   "source": [
    "X_train_cnn = data[[X_Train.index]]\n",
    "X_test_cnn = data[[X_Test.index]]\n",
    "Y_train_cnn = label[[Y_Train.index]]\n",
    "Y_test_cnn = label[[Y_Test.index]]"
   ]
  },
  {
   "cell_type": "code",
   "execution_count": 35,
   "metadata": {},
   "outputs": [
    {
     "data": {
      "text/plain": [
       "((3092, 250), (777, 250), (3092, 7), (777, 7))"
      ]
     },
     "execution_count": 35,
     "metadata": {},
     "output_type": "execute_result"
    }
   ],
   "source": [
    "X_train_cnn.shape, X_test_cnn.shape , Y_train_cnn.shape , Y_test_cnn.shape"
   ]
  },
  {
   "cell_type": "markdown",
   "metadata": {},
   "source": [
    "Saving train and test data to train the model "
   ]
  },
  {
   "cell_type": "code",
   "execution_count": 36,
   "metadata": {},
   "outputs": [],
   "source": [
    "pickle.dump(X_train_cnn, open('../../models/X_train_cnn.pickle', 'wb'))\n",
    "pickle.dump(X_test_cnn, open('../../models/X_test_cnn.pickle', 'wb'))\n",
    "pickle.dump(Y_train_cnn, open('../../models/Y_train_cnn.pickle', 'wb'))\n",
    "pickle.dump(Y_test_cnn, open('../../models/Y_test_cnn.pickle', 'wb'))"
   ]
  },
  {
   "cell_type": "code",
   "execution_count": 37,
   "metadata": {},
   "outputs": [
    {
     "data": {
      "text/plain": [
       "array([[0, 0, 0, ..., 1, 0, 0],\n",
       "       [0, 0, 0, ..., 1, 0, 0],\n",
       "       [0, 0, 0, ..., 1, 0, 0],\n",
       "       ...,\n",
       "       [0, 1, 0, ..., 0, 0, 0],\n",
       "       [0, 1, 0, ..., 0, 0, 0],\n",
       "       [0, 1, 0, ..., 0, 0, 0]])"
      ]
     },
     "execution_count": 37,
     "metadata": {},
     "output_type": "execute_result"
    }
   ],
   "source": [
    "Y_test_cnn"
   ]
  },
  {
   "cell_type": "markdown",
   "metadata": {},
   "source": [
    "Loading embeddings from glove with dimmension 100 "
   ]
  },
  {
   "cell_type": "code",
   "execution_count": 38,
   "metadata": {},
   "outputs": [
    {
     "name": "stdout",
     "output_type": "stream",
     "text": [
      "Found 399883 word vectors.\n"
     ]
    }
   ],
   "source": [
    "embeddings_index = {}\n",
    "f = open('../../glove/glove.6B.100d.txt',encoding='ISO-8859-1')\n",
    "for line in f:\n",
    "    try:\n",
    "        values = line.split()\n",
    "        word = values[0]\n",
    "        coefs = np.array(values[1:], dtype='float32')\n",
    "        embeddings_index[word] = coefs\n",
    "    except:\n",
    "        pass\n",
    "f.close()\n",
    "\n",
    "print('Found %s word vectors.' % len(embeddings_index))"
   ]
  },
  {
   "cell_type": "code",
   "execution_count": 39,
   "metadata": {},
   "outputs": [],
   "source": [
    "embedding_matrix = np.zeros((len(word_index) + 1, EMBEDDING_DIM))\n",
    "for word, i in word_index.items():\n",
    "    embedding_vector = embeddings_index.get(word)\n",
    "    if embedding_vector is not None:\n",
    "        # words not found in embedding index will be all-zeros.\n",
    "        embedding_matrix[i] = embedding_vector"
   ]
  },
  {
   "cell_type": "code",
   "execution_count": 40,
   "metadata": {},
   "outputs": [
    {
     "data": {
      "text/plain": [
       "(32259, 100)"
      ]
     },
     "execution_count": 40,
     "metadata": {},
     "output_type": "execute_result"
    }
   ],
   "source": [
    "embedding_matrix.shape"
   ]
  },
  {
   "cell_type": "code",
   "execution_count": 41,
   "metadata": {},
   "outputs": [],
   "source": [
    "pickle.dump(embedding_matrix, open('../../models/embedding_matrix.pickle', 'wb'))"
   ]
  },
  {
   "cell_type": "markdown",
   "metadata": {},
   "source": [
    "# CNN model"
   ]
  },
  {
   "cell_type": "code",
   "execution_count": 42,
   "metadata": {},
   "outputs": [],
   "source": [
    "embedding_layer = Embedding(len(word_index) + 1,\n",
    "                            EMBEDDING_DIM,\n",
    "                            weights=[embedding_matrix],\n",
    "                            input_length=MAX_SEQUENCE_LENGTH,\n",
    "                            trainable=False)"
   ]
  },
  {
   "cell_type": "code",
   "execution_count": 43,
   "metadata": {},
   "outputs": [],
   "source": [
    "pat = 5 \n",
    "early_stopping = EarlyStopping(monitor='val_loss', patience=pat, verbose=1)"
   ]
  },
  {
   "cell_type": "code",
   "execution_count": 44,
   "metadata": {},
   "outputs": [],
   "source": [
    "model_checkpoint_cnn = ModelCheckpoint('../../models/cnn_model.h5', verbose=1, save_best_only=True)"
   ]
  },
  {
   "cell_type": "code",
   "execution_count": 45,
   "metadata": {},
   "outputs": [
    {
     "name": "stderr",
     "output_type": "stream",
     "text": [
      "[2020-11-29][13:58:31][tensorflow][WARNING] From C:\\Users\\LW946LH\\AppData\\Local\\Continuum\\anaconda3\\envs\\pruebaea\\lib\\site-packages\\tensorflow_core\\python\\ops\\resource_variable_ops.py:1630: calling BaseResourceVariable.__init__ (from tensorflow.python.ops.resource_variable_ops) with constraint is deprecated and will be removed in a future version.\n",
      "Instructions for updating:\n",
      "If using Keras pass *_constraint arguments to layers.\n",
      "[2020-11-29][13:58:31][tensorflow][WARNING] From C:\\Users\\LW946LH\\AppData\\Local\\Continuum\\anaconda3\\envs\\pruebaea\\lib\\site-packages\\keras\\backend\\tensorflow_backend.py:4070: The name tf.nn.max_pool is deprecated. Please use tf.nn.max_pool2d instead.\n",
      "\n"
     ]
    },
    {
     "name": "stdout",
     "output_type": "stream",
     "text": [
      "Model: \"model_1\"\n",
      "_________________________________________________________________\n",
      "Layer (type)                 Output Shape              Param #   \n",
      "=================================================================\n",
      "input_1 (InputLayer)         (None, None)              0         \n",
      "_________________________________________________________________\n",
      "embedding_1 (Embedding)      (None, 250, 100)          3225900   \n",
      "_________________________________________________________________\n",
      "conv1d_1 (Conv1D)            (None, 246, 128)          64128     \n",
      "_________________________________________________________________\n",
      "max_pooling1d_1 (MaxPooling1 (None, 49, 128)           0         \n",
      "_________________________________________________________________\n",
      "dropout_1 (Dropout)          (None, 49, 128)           0         \n",
      "_________________________________________________________________\n",
      "conv1d_2 (Conv1D)            (None, 45, 128)           82048     \n",
      "_________________________________________________________________\n",
      "max_pooling1d_2 (MaxPooling1 (None, 9, 128)            0         \n",
      "_________________________________________________________________\n",
      "dropout_2 (Dropout)          (None, 9, 128)            0         \n",
      "_________________________________________________________________\n",
      "conv1d_3 (Conv1D)            (None, 5, 128)            82048     \n",
      "_________________________________________________________________\n",
      "global_max_pooling1d_1 (Glob (None, 128)               0         \n",
      "_________________________________________________________________\n",
      "dense_1 (Dense)              (None, 128)               16512     \n",
      "_________________________________________________________________\n",
      "dropout_3 (Dropout)          (None, 128)               0         \n",
      "_________________________________________________________________\n",
      "dense_2 (Dense)              (None, 7)                 903       \n",
      "=================================================================\n",
      "Total params: 3,471,539\n",
      "Trainable params: 245,639\n",
      "Non-trainable params: 3,225,900\n",
      "_________________________________________________________________\n"
     ]
    }
   ],
   "source": [
    "sequence_input = Input(shape=(None,), dtype=\"int64\")\n",
    "embedded_sequences = embedding_layer(sequence_input)\n",
    "x = layers.Conv1D(128, 5, activation=\"relu\")(embedded_sequences)\n",
    "x = layers.MaxPooling1D(5)(x)\n",
    "x = layers.Dropout(0.5)(x)\n",
    "x = layers.Conv1D(128, 5, activation=\"relu\")(x)\n",
    "x = layers.MaxPooling1D(5)(x)\n",
    "x = layers.Dropout(0.5)(x)\n",
    "x = layers.Conv1D(128, 5, activation=\"relu\")(x)\n",
    "x = layers.GlobalMaxPooling1D()(x)\n",
    "x = layers.Dense(128, activation=\"relu\")(x)\n",
    "x = layers.Dropout(0.5)(x)\n",
    "preds = layers.Dense(len(Y_train_cnn[0]), activation=\"softmax\")(x)\n",
    "model_cnn = Model(sequence_input, preds)\n",
    "\n",
    "model_cnn.compile(loss='categorical_crossentropy',\n",
    "              optimizer='adam',\n",
    "              metrics=['acc'])\n",
    "\n",
    "model_cnn.summary()"
   ]
  },
  {
   "cell_type": "code",
   "execution_count": 46,
   "metadata": {},
   "outputs": [],
   "source": [
    "def fit_and_evaluate_cnn(t_x, val_x, t_y, val_y, EPOCHS=20, BATCH_SIZE=128):\n",
    "    model = None\n",
    "    model = model_cnn\n",
    "    results = model.fit(t_x, t_y, epochs=EPOCHS, batch_size=BATCH_SIZE, callbacks=[early_stopping, model_checkpoint_cnn], \n",
    "              verbose=1, validation_split=0.1)  \n",
    "    print(\"Val Score: \", model.evaluate(val_x, val_y))\n",
    "    return results"
   ]
  },
  {
   "cell_type": "markdown",
   "metadata": {},
   "source": [
    "Training model using cross validation with k = 3"
   ]
  },
  {
   "cell_type": "code",
   "execution_count": 47,
   "metadata": {},
   "outputs": [
    {
     "name": "stdout",
     "output_type": "stream",
     "text": [
      "Training on Fold:  1\n"
     ]
    },
    {
     "name": "stderr",
     "output_type": "stream",
     "text": [
      "[2020-11-29][13:58:34][tensorflow][WARNING] From C:\\Users\\LW946LH\\AppData\\Local\\Continuum\\anaconda3\\envs\\pruebaea\\lib\\site-packages\\keras\\backend\\tensorflow_backend.py:422: The name tf.global_variables is deprecated. Please use tf.compat.v1.global_variables instead.\n",
      "\n"
     ]
    },
    {
     "name": "stdout",
     "output_type": "stream",
     "text": [
      "Train on 2503 samples, validate on 279 samples\n",
      "Epoch 1/20\n",
      "2503/2503 [==============================] - 4s 1ms/step - loss: 1.9975 - acc: 0.1706 - val_loss: 1.9177 - val_acc: 0.2330\n",
      "\n",
      "Epoch 00001: val_loss improved from inf to 1.91768, saving model to ../../models/cnn_model.h5\n",
      "Epoch 2/20\n",
      "2503/2503 [==============================] - 3s 1ms/step - loss: 1.8659 - acc: 0.2325 - val_loss: 1.7960 - val_acc: 0.3835\n",
      "\n",
      "Epoch 00002: val_loss improved from 1.91768 to 1.79604, saving model to ../../models/cnn_model.h5\n",
      "Epoch 3/20\n",
      "2503/2503 [==============================] - 4s 2ms/step - loss: 1.5828 - acc: 0.3795 - val_loss: 1.2971 - val_acc: 0.5484\n",
      "\n",
      "Epoch 00003: val_loss improved from 1.79604 to 1.29710, saving model to ../../models/cnn_model.h5\n",
      "Epoch 4/20\n",
      "2503/2503 [==============================] - 4s 2ms/step - loss: 1.2645 - acc: 0.4950 - val_loss: 1.0886 - val_acc: 0.6595\n",
      "\n",
      "Epoch 00004: val_loss improved from 1.29710 to 1.08863, saving model to ../../models/cnn_model.h5\n",
      "Epoch 5/20\n",
      "2503/2503 [==============================] - 4s 2ms/step - loss: 1.0272 - acc: 0.6049 - val_loss: 0.8886 - val_acc: 0.6703\n",
      "\n",
      "Epoch 00005: val_loss improved from 1.08863 to 0.88860, saving model to ../../models/cnn_model.h5\n",
      "Epoch 6/20\n",
      "2503/2503 [==============================] - 4s 2ms/step - loss: 0.8517 - acc: 0.6744 - val_loss: 0.7577 - val_acc: 0.7204\n",
      "\n",
      "Epoch 00006: val_loss improved from 0.88860 to 0.75770, saving model to ../../models/cnn_model.h5\n",
      "Epoch 7/20\n",
      "2503/2503 [==============================] - 4s 2ms/step - loss: 0.7318 - acc: 0.7367 - val_loss: 0.6488 - val_acc: 0.7455\n",
      "\n",
      "Epoch 00007: val_loss improved from 0.75770 to 0.64878, saving model to ../../models/cnn_model.h5\n",
      "Epoch 8/20\n",
      "2503/2503 [==============================] - 4s 2ms/step - loss: 0.6201 - acc: 0.7779 - val_loss: 0.6489 - val_acc: 0.7706\n",
      "\n",
      "Epoch 00008: val_loss did not improve from 0.64878\n",
      "Epoch 9/20\n",
      "2503/2503 [==============================] - 4s 2ms/step - loss: 0.5964 - acc: 0.7911 - val_loss: 0.5752 - val_acc: 0.7670\n",
      "\n",
      "Epoch 00009: val_loss improved from 0.64878 to 0.57518, saving model to ../../models/cnn_model.h5\n",
      "Epoch 10/20\n",
      "2503/2503 [==============================] - 4s 2ms/step - loss: 0.5009 - acc: 0.8182 - val_loss: 0.5415 - val_acc: 0.8136\n",
      "\n",
      "Epoch 00010: val_loss improved from 0.57518 to 0.54146, saving model to ../../models/cnn_model.h5\n",
      "Epoch 11/20\n",
      "2503/2503 [==============================] - 5s 2ms/step - loss: 0.4439 - acc: 0.8466 - val_loss: 0.4988 - val_acc: 0.8029\n",
      "\n",
      "Epoch 00011: val_loss improved from 0.54146 to 0.49876, saving model to ../../models/cnn_model.h5\n",
      "Epoch 12/20\n",
      "2503/2503 [==============================] - 5s 2ms/step - loss: 0.4121 - acc: 0.8586 - val_loss: 0.4842 - val_acc: 0.8244\n",
      "\n",
      "Epoch 00012: val_loss improved from 0.49876 to 0.48420, saving model to ../../models/cnn_model.h5\n",
      "Epoch 13/20\n",
      "2503/2503 [==============================] - 4s 2ms/step - loss: 0.3535 - acc: 0.8773 - val_loss: 0.4540 - val_acc: 0.8136\n",
      "\n",
      "Epoch 00013: val_loss improved from 0.48420 to 0.45400, saving model to ../../models/cnn_model.h5\n",
      "Epoch 14/20\n",
      "2503/2503 [==============================] - 4s 2ms/step - loss: 0.3507 - acc: 0.8825 - val_loss: 0.4898 - val_acc: 0.8208\n",
      "\n",
      "Epoch 00014: val_loss did not improve from 0.45400\n",
      "Epoch 15/20\n",
      "2503/2503 [==============================] - 4s 2ms/step - loss: 0.3160 - acc: 0.8961 - val_loss: 0.4309 - val_acc: 0.8423\n",
      "\n",
      "Epoch 00015: val_loss improved from 0.45400 to 0.43095, saving model to ../../models/cnn_model.h5\n",
      "Epoch 16/20\n",
      "2503/2503 [==============================] - 4s 2ms/step - loss: 0.2765 - acc: 0.9065 - val_loss: 0.4669 - val_acc: 0.8423\n",
      "\n",
      "Epoch 00016: val_loss did not improve from 0.43095\n",
      "Epoch 17/20\n",
      "2503/2503 [==============================] - 4s 2ms/step - loss: 0.2419 - acc: 0.9197 - val_loss: 0.4148 - val_acc: 0.8638\n",
      "\n",
      "Epoch 00017: val_loss improved from 0.43095 to 0.41478, saving model to ../../models/cnn_model.h5\n",
      "Epoch 18/20\n",
      "2503/2503 [==============================] - 4s 2ms/step - loss: 0.2155 - acc: 0.9289 - val_loss: 0.3831 - val_acc: 0.8674\n",
      "\n",
      "Epoch 00018: val_loss improved from 0.41478 to 0.38311, saving model to ../../models/cnn_model.h5\n",
      "Epoch 19/20\n",
      "2503/2503 [==============================] - 4s 2ms/step - loss: 0.2021 - acc: 0.9297 - val_loss: 0.3867 - val_acc: 0.8710\n",
      "\n",
      "Epoch 00019: val_loss did not improve from 0.38311\n",
      "Epoch 20/20\n",
      "2503/2503 [==============================] - 4s 2ms/step - loss: 0.1796 - acc: 0.9453 - val_loss: 0.4254 - val_acc: 0.8674\n",
      "\n",
      "Epoch 00020: val_loss did not improve from 0.38311\n",
      "310/310 [==============================] - 0s 684us/step\n",
      "Val Score:  [0.4520052001360924, 0.874193549156189]\n",
      "====================================================================================\n",
      "\n",
      "\n",
      "Training on Fold:  2\n",
      "Train on 2503 samples, validate on 279 samples\n",
      "Epoch 1/20\n",
      "2503/2503 [==============================] - 4s 2ms/step - loss: 0.2631 - acc: 0.9245 - val_loss: 0.2208 - val_acc: 0.9570\n",
      "\n",
      "Epoch 00001: val_loss improved from 0.38311 to 0.22082, saving model to ../../models/cnn_model.h5\n",
      "Epoch 2/20\n",
      "2503/2503 [==============================] - 4s 2ms/step - loss: 0.2378 - acc: 0.9313 - val_loss: 0.2099 - val_acc: 0.9498\n",
      "\n",
      "Epoch 00002: val_loss improved from 0.22082 to 0.20989, saving model to ../../models/cnn_model.h5\n",
      "Epoch 3/20\n",
      "2503/2503 [==============================] - 4s 2ms/step - loss: 0.2117 - acc: 0.9313 - val_loss: 0.2266 - val_acc: 0.9391\n",
      "\n",
      "Epoch 00003: val_loss did not improve from 0.20989\n",
      "Epoch 4/20\n",
      "2503/2503 [==============================] - 4s 2ms/step - loss: 0.1790 - acc: 0.9445 - val_loss: 0.2227 - val_acc: 0.9391\n",
      "\n",
      "Epoch 00004: val_loss did not improve from 0.20989\n",
      "Epoch 5/20\n",
      "2503/2503 [==============================] - 4s 2ms/step - loss: 0.1579 - acc: 0.9533 - val_loss: 0.2012 - val_acc: 0.9534\n",
      "\n",
      "Epoch 00005: val_loss improved from 0.20989 to 0.20117, saving model to ../../models/cnn_model.h5\n",
      "Epoch 6/20\n",
      "2503/2503 [==============================] - 4s 2ms/step - loss: 0.1400 - acc: 0.9577 - val_loss: 0.1963 - val_acc: 0.9534\n",
      "\n",
      "Epoch 00006: val_loss improved from 0.20117 to 0.19635, saving model to ../../models/cnn_model.h5\n",
      "Epoch 7/20\n",
      "2503/2503 [==============================] - 4s 2ms/step - loss: 0.1287 - acc: 0.9577 - val_loss: 0.2031 - val_acc: 0.9427\n",
      "\n",
      "Epoch 00007: val_loss did not improve from 0.19635\n",
      "Epoch 8/20\n",
      "2503/2503 [==============================] - 4s 2ms/step - loss: 0.1095 - acc: 0.9648 - val_loss: 0.2049 - val_acc: 0.9498\n",
      "\n",
      "Epoch 00008: val_loss did not improve from 0.19635\n",
      "Epoch 9/20\n",
      "2503/2503 [==============================] - 4s 2ms/step - loss: 0.1123 - acc: 0.9672 - val_loss: 0.2308 - val_acc: 0.9462\n",
      "\n",
      "Epoch 00009: val_loss did not improve from 0.19635\n",
      "Epoch 10/20\n",
      "2503/2503 [==============================] - 4s 2ms/step - loss: 0.1188 - acc: 0.9652 - val_loss: 0.2061 - val_acc: 0.9427\n",
      "\n",
      "Epoch 00010: val_loss did not improve from 0.19635\n",
      "Epoch 11/20\n",
      "2503/2503 [==============================] - 4s 2ms/step - loss: 0.0915 - acc: 0.9728 - val_loss: 0.2082 - val_acc: 0.9606\n",
      "\n",
      "Epoch 00011: val_loss did not improve from 0.19635\n",
      "Epoch 00011: early stopping\n",
      "310/310 [==============================] - 0s 610us/step\n",
      "Val Score:  [0.14823924158850024, 0.9516128897666931]\n",
      "====================================================================================\n",
      "\n",
      "\n",
      "Training on Fold:  3\n",
      "Train on 2503 samples, validate on 279 samples\n",
      "Epoch 1/20\n",
      "2503/2503 [==============================] - 4s 2ms/step - loss: 0.1292 - acc: 0.9640 - val_loss: 0.0423 - val_acc: 0.9892\n",
      "\n",
      "Epoch 00001: val_loss improved from 0.19635 to 0.04228, saving model to ../../models/cnn_model.h5\n",
      "Epoch 2/20\n",
      "2503/2503 [==============================] - 4s 2ms/step - loss: 0.1250 - acc: 0.9684 - val_loss: 0.0339 - val_acc: 1.0000\n",
      "\n",
      "Epoch 00002: val_loss improved from 0.04228 to 0.03387, saving model to ../../models/cnn_model.h5\n",
      "Epoch 3/20\n",
      "2503/2503 [==============================] - 4s 2ms/step - loss: 0.1159 - acc: 0.9708 - val_loss: 0.0330 - val_acc: 1.0000\n",
      "\n",
      "Epoch 00003: val_loss improved from 0.03387 to 0.03298, saving model to ../../models/cnn_model.h5\n",
      "Epoch 4/20\n",
      "2503/2503 [==============================] - 4s 2ms/step - loss: 0.0916 - acc: 0.9724 - val_loss: 0.0361 - val_acc: 0.9964\n",
      "\n",
      "Epoch 00004: val_loss did not improve from 0.03298\n",
      "Epoch 5/20\n",
      "2503/2503 [==============================] - 4s 2ms/step - loss: 0.0868 - acc: 0.9740 - val_loss: 0.0440 - val_acc: 0.9964\n",
      "\n",
      "Epoch 00005: val_loss did not improve from 0.03298\n",
      "Epoch 6/20\n",
      "2503/2503 [==============================] - 4s 2ms/step - loss: 0.0866 - acc: 0.9732 - val_loss: 0.0382 - val_acc: 0.9964\n",
      "\n",
      "Epoch 00006: val_loss did not improve from 0.03298\n",
      "Epoch 7/20\n",
      "2503/2503 [==============================] - 4s 2ms/step - loss: 0.0667 - acc: 0.9784 - val_loss: 0.0399 - val_acc: 0.9964\n",
      "\n",
      "Epoch 00007: val_loss did not improve from 0.03298\n",
      "Epoch 8/20\n",
      "2503/2503 [==============================] - 4s 2ms/step - loss: 0.0653 - acc: 0.9820 - val_loss: 0.0295 - val_acc: 1.0000\n",
      "\n",
      "Epoch 00008: val_loss improved from 0.03298 to 0.02954, saving model to ../../models/cnn_model.h5\n",
      "Epoch 9/20\n",
      "2503/2503 [==============================] - 4s 2ms/step - loss: 0.0762 - acc: 0.9748 - val_loss: 0.0291 - val_acc: 1.0000\n",
      "\n",
      "Epoch 00009: val_loss improved from 0.02954 to 0.02906, saving model to ../../models/cnn_model.h5\n",
      "Epoch 10/20\n",
      "2503/2503 [==============================] - 5s 2ms/step - loss: 0.0648 - acc: 0.9824 - val_loss: 0.0339 - val_acc: 0.9964\n",
      "\n",
      "Epoch 00010: val_loss did not improve from 0.02906\n",
      "Epoch 11/20\n",
      "2503/2503 [==============================] - 5s 2ms/step - loss: 0.0539 - acc: 0.9840 - val_loss: 0.0288 - val_acc: 0.9964\n",
      "\n",
      "Epoch 00011: val_loss improved from 0.02906 to 0.02877, saving model to ../../models/cnn_model.h5\n",
      "Epoch 12/20\n",
      "2503/2503 [==============================] - 4s 2ms/step - loss: 0.0666 - acc: 0.9804 - val_loss: 0.0342 - val_acc: 0.9928\n",
      "\n",
      "Epoch 00012: val_loss did not improve from 0.02877\n",
      "Epoch 13/20\n",
      "2503/2503 [==============================] - 4s 2ms/step - loss: 0.0623 - acc: 0.9824 - val_loss: 0.0368 - val_acc: 0.9964\n",
      "\n",
      "Epoch 00013: val_loss did not improve from 0.02877\n",
      "Epoch 14/20\n",
      "2503/2503 [==============================] - 4s 2ms/step - loss: 0.0458 - acc: 0.9868 - val_loss: 0.0337 - val_acc: 1.0000\n",
      "\n",
      "Epoch 00014: val_loss did not improve from 0.02877\n",
      "Epoch 15/20\n",
      "2503/2503 [==============================] - 4s 2ms/step - loss: 0.0493 - acc: 0.9820 - val_loss: 0.0313 - val_acc: 0.9964\n",
      "\n",
      "Epoch 00015: val_loss did not improve from 0.02877\n",
      "Epoch 16/20\n",
      "2503/2503 [==============================] - 4s 2ms/step - loss: 0.0556 - acc: 0.9856 - val_loss: 0.0350 - val_acc: 0.9964\n",
      "\n",
      "Epoch 00016: val_loss did not improve from 0.02877\n",
      "Epoch 00016: early stopping\n",
      "310/310 [==============================] - 0s 577us/step\n",
      "Val Score:  [0.08072269962679955, 0.9806451797485352]\n",
      "====================================================================================\n",
      "\n",
      "\n"
     ]
    }
   ],
   "source": [
    "n_folds=3\n",
    "epochs=20\n",
    "batch_size=128\n",
    "\n",
    "#save the model history in a list after fitting so that we can plot later\n",
    "model_history_cnn = [] \n",
    "\n",
    "for i in range(n_folds):\n",
    "    print(\"Training on Fold: \",i+1)\n",
    "    t_x, val_x, t_y, val_y = train_test_split(X_train_cnn, Y_train_cnn, test_size=0.1, \n",
    "                                               random_state = np.random.randint(1,1000, 1)[0])\n",
    "    model_history_cnn.append(fit_and_evaluate_cnn(t_x, val_x, t_y, val_y, epochs, batch_size))\n",
    "    print(\"=======\"*12, end=\"\\n\\n\\n\")"
   ]
  },
  {
   "cell_type": "code",
   "execution_count": 48,
   "metadata": {},
   "outputs": [
    {
     "data": {
      "image/png": "[encoded data removed]",
      "text/plain": [
       "<Figure size 432x288 with 1 Axes>"
      ]
     },
     "metadata": {
      "needs_background": "light"
     },
     "output_type": "display_data"
    }
   ],
   "source": [
    "plt.title('Accuracies vs Epochs')\n",
    "plt.plot(model_history_cnn[0].history['acc'], label='Training Fold 1')\n",
    "plt.plot(model_history_cnn[1].history['acc'], label='Training Fold 2')\n",
    "plt.plot(model_history_cnn[2].history['acc'], label='Training Fold 3')\n",
    "plt.legend()\n",
    "plt.show()"
   ]
  },
  {
   "cell_type": "code",
   "execution_count": 49,
   "metadata": {},
   "outputs": [
    {
     "data": {
      "image/png": "[encoded data removed]",
      "text/plain": [
       "<Figure size 432x288 with 1 Axes>"
      ]
     },
     "metadata": {
      "needs_background": "light"
     },
     "output_type": "display_data"
    }
   ],
   "source": [
    "plt.title('Train Accuracy vs Val Accuracy')\n",
    "plt.plot(model_history_cnn[0].history['loss'], label='Train Loss Fold 1', color='black')\n",
    "plt.plot(model_history_cnn[0].history['val_loss'], label='Val Loss Fold 1', color='black', linestyle = \"dashdot\")\n",
    "plt.plot(model_history_cnn[1].history['loss'], label='Train Loss Fold 2', color='red', )\n",
    "plt.plot(model_history_cnn[1].history['val_loss'], label='Val Loss Fold 2', color='red', linestyle = \"dashdot\")\n",
    "plt.plot(model_history_cnn[2].history['loss'], label='Train Loss Fold 3', color='green', )\n",
    "plt.plot(model_history_cnn[2].history['val_loss'], label='Val Loss Fold 3', color='green', linestyle = \"dashdot\")\n",
    "plt.legend()\n",
    "plt.show()"
   ]
  },
  {
   "cell_type": "code",
   "execution_count": 50,
   "metadata": {},
   "outputs": [],
   "source": [
    "cnn_model = load_model('../../models/cnn_model.h5')"
   ]
  },
  {
   "cell_type": "code",
   "execution_count": 51,
   "metadata": {},
   "outputs": [],
   "source": [
    "predict_cnn = cnn_model.predict(X_test_cnn)"
   ]
  },
  {
   "cell_type": "code",
   "execution_count": 52,
   "metadata": {},
   "outputs": [
    {
     "name": "stdout",
     "output_type": "stream",
     "text": [
      "[[108   2   2   2   3   1   1]\n",
      " [  3 111   1   0   0   3   0]\n",
      " [  1   0  83   1   0   1   7]\n",
      " [  1   1   6  89   0   0   0]\n",
      " [  1   1   2   0 117   0   0]\n",
      " [  3   1   0   0   3 108   4]\n",
      " [  0   1   5   1   0   3 100]]\n"
     ]
    }
   ],
   "source": [
    "print(confusion_matrix(np.argmax(Y_test_cnn, axis=1), np.argmax(predict_cnn, axis=1)))"
   ]
  },
  {
   "cell_type": "code",
   "execution_count": 53,
   "metadata": {},
   "outputs": [
    {
     "name": "stdout",
     "output_type": "stream",
     "text": [
      "              precision    recall  f1-score   support\n",
      "\n",
      "           0       0.92      0.91      0.92       119\n",
      "           1       0.95      0.94      0.94       118\n",
      "           2       0.84      0.89      0.86        93\n",
      "           3       0.96      0.92      0.94        97\n",
      "           4       0.95      0.97      0.96       121\n",
      "           5       0.93      0.91      0.92       119\n",
      "           6       0.89      0.91      0.90       110\n",
      "\n",
      "    accuracy                           0.92       777\n",
      "   macro avg       0.92      0.92      0.92       777\n",
      "weighted avg       0.92      0.92      0.92       777\n",
      "\n"
     ]
    }
   ],
   "source": [
    "print(classification_report(np.argmax(Y_test_cnn, axis=1), np.argmax(predict_cnn, axis=1)))"
   ]
  },
  {
   "cell_type": "code",
   "execution_count": 54,
   "metadata": {},
   "outputs": [],
   "source": [
    "preprocces_model = PreproccesModel(df,stats_words)"
   ]
  },
  {
   "cell_type": "code",
   "execution_count": 55,
   "metadata": {},
   "outputs": [
    {
     "data": {
      "image/png": "[encoded data removed]",
      "text/plain": [
       "<Figure size 432x288 with 1 Axes>"
      ]
     },
     "metadata": {
      "needs_background": "light"
     },
     "output_type": "display_data"
    }
   ],
   "source": [
    "preprocces_model.plot_precision_recall_curve(np.argmax(predict_cnn, axis=1),np.argmax(Y_test_cnn, axis=1))"
   ]
  },
  {
   "cell_type": "markdown",
   "metadata": {},
   "source": [
    "# LSTM Model"
   ]
  },
  {
   "cell_type": "code",
   "execution_count": 56,
   "metadata": {},
   "outputs": [],
   "source": [
    "word_vec_large = TfidfVectorizer(\n",
    "    analyzer='word',\n",
    "    max_df=0.65,\n",
    "    min_df=0.02,\n",
    "    ngram_range=(1, 1),\n",
    "    max_features=len(stats_words['unique_words']))"
   ]
  },
  {
   "cell_type": "code",
   "execution_count": 57,
   "metadata": {},
   "outputs": [],
   "source": [
    "tfidf_large = word_vec_large.fit(df.Cleaned_text)"
   ]
  },
  {
   "cell_type": "code",
   "execution_count": 58,
   "metadata": {},
   "outputs": [],
   "source": [
    "try:\n",
    "    tfidf_large = pickle.load(open('../../models/tfidf.pickle','rb'))\n",
    "except Exception:\n",
    "    pickle.dump(tfidf_large, open('../../models/tfidf.pickle', 'wb'))"
   ]
  },
  {
   "cell_type": "code",
   "execution_count": 59,
   "metadata": {},
   "outputs": [
    {
     "data": {
      "text/plain": [
       "723"
      ]
     },
     "execution_count": 59,
     "metadata": {},
     "output_type": "execute_result"
    }
   ],
   "source": [
    "len(word_vec_large.get_feature_names())"
   ]
  },
  {
   "cell_type": "code",
   "execution_count": 60,
   "metadata": {},
   "outputs": [],
   "source": [
    "X_train, X_test, Y_train, Y_test = [],[],[],[]\n",
    "for label in set(df.label):\n",
    "    x = df[df.label==label]['Cleaned_text']\n",
    "    y = df[df.label == label]['label']\n",
    "    x_train, x_test, y_train, y_test = train_test_split(x, y, test_size= 0.2,shuffle=True,random_state =0)\n",
    "    \n",
    "    X_train.append(x_train)\n",
    "    X_test.append(x_test)\n",
    "    Y_train.append(y_train)\n",
    "    Y_test.append(y_test)\n",
    "X_train = pd.concat(X_train)\n",
    "X_test = pd.concat(X_test)\n",
    "Y_train = lb.transform(pd.concat(Y_train).to_list())\n",
    "Y_test = lb.transform(pd.concat(Y_test).to_list())"
   ]
  },
  {
   "cell_type": "code",
   "execution_count": 61,
   "metadata": {},
   "outputs": [
    {
     "data": {
      "text/plain": [
       "((3092,), (777,), (3092, 7), (777, 7))"
      ]
     },
     "execution_count": 61,
     "metadata": {},
     "output_type": "execute_result"
    }
   ],
   "source": [
    "X_train.shape, X_test.shape , Y_train.shape , Y_test.shape"
   ]
  },
  {
   "cell_type": "code",
   "execution_count": 62,
   "metadata": {},
   "outputs": [],
   "source": [
    "tfidf_train_large = word_vec_large.transform(X_train)\n",
    "tfidf_test_large = word_vec_large.transform(X_test)"
   ]
  },
  {
   "cell_type": "code",
   "execution_count": 63,
   "metadata": {},
   "outputs": [
    {
     "data": {
      "text/html": [
       "<div>\n",
       "<style scoped>\n",
       "    .dataframe tbody tr th:only-of-type {\n",
       "        vertical-align: middle;\n",
       "    }\n",
       "\n",
       "    .dataframe tbody tr th {\n",
       "        vertical-align: top;\n",
       "    }\n",
       "\n",
       "    .dataframe thead th {\n",
       "        text-align: right;\n",
       "    }\n",
       "</style>\n",
       "<table border=\"1\" class=\"dataframe\">\n",
       "  <thead>\n",
       "    <tr style=\"text-align: right;\">\n",
       "      <th></th>\n",
       "      <th>ability</th>\n",
       "      <th>able</th>\n",
       "      <th>accept</th>\n",
       "      <th>access</th>\n",
       "      <th>according</th>\n",
       "      <th>action</th>\n",
       "      <th>actions</th>\n",
       "      <th>actually</th>\n",
       "      <th>address</th>\n",
       "      <th>advance</th>\n",
       "      <th>...</th>\n",
       "      <th>writing</th>\n",
       "      <th>written</th>\n",
       "      <th>wrong</th>\n",
       "      <th>wrote</th>\n",
       "      <th>yeah</th>\n",
       "      <th>year</th>\n",
       "      <th>years</th>\n",
       "      <th>yesterday</th>\n",
       "      <th>york</th>\n",
       "      <th>young</th>\n",
       "    </tr>\n",
       "  </thead>\n",
       "  <tbody>\n",
       "    <tr>\n",
       "      <th>2407</th>\n",
       "      <td>0.0</td>\n",
       "      <td>0.0</td>\n",
       "      <td>0.0</td>\n",
       "      <td>0.0</td>\n",
       "      <td>0.0</td>\n",
       "      <td>0.0</td>\n",
       "      <td>0.0</td>\n",
       "      <td>0.0</td>\n",
       "      <td>0.00000</td>\n",
       "      <td>0.0</td>\n",
       "      <td>...</td>\n",
       "      <td>0.0</td>\n",
       "      <td>0.0</td>\n",
       "      <td>0.0</td>\n",
       "      <td>0.0</td>\n",
       "      <td>0.0</td>\n",
       "      <td>0.00000</td>\n",
       "      <td>0.0</td>\n",
       "      <td>0.0</td>\n",
       "      <td>0.0</td>\n",
       "      <td>0.0</td>\n",
       "    </tr>\n",
       "    <tr>\n",
       "      <th>2218</th>\n",
       "      <td>0.0</td>\n",
       "      <td>0.0</td>\n",
       "      <td>0.0</td>\n",
       "      <td>0.0</td>\n",
       "      <td>0.0</td>\n",
       "      <td>0.0</td>\n",
       "      <td>0.0</td>\n",
       "      <td>0.0</td>\n",
       "      <td>0.00000</td>\n",
       "      <td>0.0</td>\n",
       "      <td>...</td>\n",
       "      <td>0.0</td>\n",
       "      <td>0.0</td>\n",
       "      <td>0.0</td>\n",
       "      <td>0.0</td>\n",
       "      <td>0.0</td>\n",
       "      <td>0.00000</td>\n",
       "      <td>0.0</td>\n",
       "      <td>0.0</td>\n",
       "      <td>0.0</td>\n",
       "      <td>0.0</td>\n",
       "    </tr>\n",
       "    <tr>\n",
       "      <th>2651</th>\n",
       "      <td>0.0</td>\n",
       "      <td>0.0</td>\n",
       "      <td>0.0</td>\n",
       "      <td>0.0</td>\n",
       "      <td>0.0</td>\n",
       "      <td>0.0</td>\n",
       "      <td>0.0</td>\n",
       "      <td>0.0</td>\n",
       "      <td>0.00000</td>\n",
       "      <td>0.0</td>\n",
       "      <td>...</td>\n",
       "      <td>0.0</td>\n",
       "      <td>0.0</td>\n",
       "      <td>0.0</td>\n",
       "      <td>0.0</td>\n",
       "      <td>0.0</td>\n",
       "      <td>0.00000</td>\n",
       "      <td>0.0</td>\n",
       "      <td>0.0</td>\n",
       "      <td>0.0</td>\n",
       "      <td>0.0</td>\n",
       "    </tr>\n",
       "    <tr>\n",
       "      <th>2569</th>\n",
       "      <td>0.0</td>\n",
       "      <td>0.0</td>\n",
       "      <td>0.0</td>\n",
       "      <td>0.0</td>\n",
       "      <td>0.0</td>\n",
       "      <td>0.0</td>\n",
       "      <td>0.0</td>\n",
       "      <td>0.0</td>\n",
       "      <td>0.00000</td>\n",
       "      <td>0.0</td>\n",
       "      <td>...</td>\n",
       "      <td>0.0</td>\n",
       "      <td>0.0</td>\n",
       "      <td>0.0</td>\n",
       "      <td>0.0</td>\n",
       "      <td>0.0</td>\n",
       "      <td>0.11896</td>\n",
       "      <td>0.0</td>\n",
       "      <td>0.0</td>\n",
       "      <td>0.0</td>\n",
       "      <td>0.0</td>\n",
       "    </tr>\n",
       "    <tr>\n",
       "      <th>2333</th>\n",
       "      <td>0.0</td>\n",
       "      <td>0.0</td>\n",
       "      <td>0.0</td>\n",
       "      <td>0.0</td>\n",
       "      <td>0.0</td>\n",
       "      <td>0.0</td>\n",
       "      <td>0.0</td>\n",
       "      <td>0.0</td>\n",
       "      <td>0.60013</td>\n",
       "      <td>0.0</td>\n",
       "      <td>...</td>\n",
       "      <td>0.0</td>\n",
       "      <td>0.0</td>\n",
       "      <td>0.0</td>\n",
       "      <td>0.0</td>\n",
       "      <td>0.0</td>\n",
       "      <td>0.00000</td>\n",
       "      <td>0.0</td>\n",
       "      <td>0.0</td>\n",
       "      <td>0.0</td>\n",
       "      <td>0.0</td>\n",
       "    </tr>\n",
       "  </tbody>\n",
       "</table>\n",
       "<p>5 rows × 723 columns</p>\n",
       "</div>"
      ],
      "text/plain": [
       "      ability  able  accept  access  according  action  actions  actually  \\\n",
       "2407      0.0   0.0     0.0     0.0        0.0     0.0      0.0       0.0   \n",
       "2218      0.0   0.0     0.0     0.0        0.0     0.0      0.0       0.0   \n",
       "2651      0.0   0.0     0.0     0.0        0.0     0.0      0.0       0.0   \n",
       "2569      0.0   0.0     0.0     0.0        0.0     0.0      0.0       0.0   \n",
       "2333      0.0   0.0     0.0     0.0        0.0     0.0      0.0       0.0   \n",
       "\n",
       "      address  advance  ...  writing  written  wrong  wrote  yeah     year  \\\n",
       "2407  0.00000      0.0  ...      0.0      0.0    0.0    0.0   0.0  0.00000   \n",
       "2218  0.00000      0.0  ...      0.0      0.0    0.0    0.0   0.0  0.00000   \n",
       "2651  0.00000      0.0  ...      0.0      0.0    0.0    0.0   0.0  0.00000   \n",
       "2569  0.00000      0.0  ...      0.0      0.0    0.0    0.0   0.0  0.11896   \n",
       "2333  0.60013      0.0  ...      0.0      0.0    0.0    0.0   0.0  0.00000   \n",
       "\n",
       "      years  yesterday  york  young  \n",
       "2407    0.0        0.0   0.0    0.0  \n",
       "2218    0.0        0.0   0.0    0.0  \n",
       "2651    0.0        0.0   0.0    0.0  \n",
       "2569    0.0        0.0   0.0    0.0  \n",
       "2333    0.0        0.0   0.0    0.0  \n",
       "\n",
       "[5 rows x 723 columns]"
      ]
     },
     "execution_count": 63,
     "metadata": {},
     "output_type": "execute_result"
    }
   ],
   "source": [
    "df_tfidf_large = pd.DataFrame(data=tfidf_train_large.toarray(), index=X_train.index, columns=word_vec_large.get_feature_names())\n",
    "df_tfidf_large.head()"
   ]
  },
  {
   "cell_type": "code",
   "execution_count": 64,
   "metadata": {},
   "outputs": [],
   "source": [
    "data_dim = tfidf_train_large.shape[1]\n",
    "data_dim\n",
    "X_train_lstm = tfidf_train_large.toarray().reshape(tfidf_train_large.shape[0], 1, tfidf_train_large.shape[1])\n",
    "X_test_lstm = tfidf_test_large.toarray().reshape(tfidf_test_large.shape[0], 1, tfidf_test_large.shape[1])\n"
   ]
  },
  {
   "cell_type": "code",
   "execution_count": 65,
   "metadata": {},
   "outputs": [
    {
     "data": {
      "text/plain": [
       "(3092, 1, 723)"
      ]
     },
     "execution_count": 65,
     "metadata": {},
     "output_type": "execute_result"
    }
   ],
   "source": [
    "X_train_lstm.shape"
   ]
  },
  {
   "cell_type": "code",
   "execution_count": 66,
   "metadata": {},
   "outputs": [],
   "source": [
    "model_checkpoint_lstm = ModelCheckpoint('../../models/lstm_model.h5', verbose=1, save_best_only=True)"
   ]
  },
  {
   "cell_type": "code",
   "execution_count": 67,
   "metadata": {
    "scrolled": true
   },
   "outputs": [],
   "source": [
    "model_lstm = Sequential()\n",
    "model_lstm.add(LSTM(200, input_shape=(None, data_dim),return_sequences=True))\n",
    "model_lstm.add(Dropout(0.5))\n",
    "model_lstm.add(Bidirectional(LSTM(100,return_sequences=True,activation='relu')))\n",
    "model_lstm.add(Dropout(0.5))\n",
    "model_lstm.add(Bidirectional(LSTM(50,activation='relu')))\n",
    "model_lstm.add(Dropout(0.5))\n",
    "model_lstm.add(Dense(7, activation='softmax'))\n",
    "model_lstm.compile(loss='categorical_crossentropy', optimizer='adam', metrics = ['accuracy'])\n",
    "# history_lstm = model_lstm.fit(X_train_lstm,Y_train, validation_data = (X_test_lstm,Y_test), batch_size=128, epochs=12)"
   ]
  },
  {
   "cell_type": "code",
   "execution_count": 68,
   "metadata": {},
   "outputs": [
    {
     "name": "stdout",
     "output_type": "stream",
     "text": [
      "Model: \"sequential_1\"\n",
      "_________________________________________________________________\n",
      "Layer (type)                 Output Shape              Param #   \n",
      "=================================================================\n",
      "lstm_1 (LSTM)                (None, None, 200)         739200    \n",
      "_________________________________________________________________\n",
      "dropout_4 (Dropout)          (None, None, 200)         0         \n",
      "_________________________________________________________________\n",
      "bidirectional_1 (Bidirection (None, None, 200)         240800    \n",
      "_________________________________________________________________\n",
      "dropout_5 (Dropout)          (None, None, 200)         0         \n",
      "_________________________________________________________________\n",
      "bidirectional_2 (Bidirection (None, 100)               100400    \n",
      "_________________________________________________________________\n",
      "dropout_6 (Dropout)          (None, 100)               0         \n",
      "_________________________________________________________________\n",
      "dense_3 (Dense)              (None, 7)                 707       \n",
      "=================================================================\n",
      "Total params: 1,081,107\n",
      "Trainable params: 1,081,107\n",
      "Non-trainable params: 0\n",
      "_________________________________________________________________\n"
     ]
    }
   ],
   "source": [
    "model_lstm.summary()"
   ]
  },
  {
   "cell_type": "code",
   "execution_count": 69,
   "metadata": {},
   "outputs": [],
   "source": [
    "def fit_and_evaluate_lstm(t_x, val_x, t_y, val_y, EPOCHS=20, BATCH_SIZE=128):\n",
    "    model = None\n",
    "    model = model_lstm\n",
    "    results = model.fit(t_x, t_y, epochs=EPOCHS, batch_size=BATCH_SIZE, callbacks=[early_stopping, model_checkpoint_lstm], \n",
    "              verbose=1, validation_split=0.1)  \n",
    "    print(\"Val Score: \", model.evaluate(val_x, val_y))\n",
    "    return results"
   ]
  },
  {
   "cell_type": "code",
   "execution_count": 70,
   "metadata": {},
   "outputs": [
    {
     "name": "stdout",
     "output_type": "stream",
     "text": [
      "Training on Fold:  1\n",
      "Train on 2503 samples, validate on 279 samples\n",
      "Epoch 1/20\n",
      "2503/2503 [==============================] - 2s 807us/step - loss: 1.9456 - accuracy: 0.1518 - val_loss: 1.9443 - val_accuracy: 0.1362\n",
      "\n",
      "Epoch 00001: val_loss improved from inf to 1.94426, saving model to ../../models/lstm_model.h5\n",
      "Epoch 2/20\n",
      "2503/2503 [==============================] - 1s 290us/step - loss: 1.9432 - accuracy: 0.2189 - val_loss: 1.9387 - val_accuracy: 0.4229\n",
      "\n",
      "Epoch 00002: val_loss improved from 1.94426 to 1.93868, saving model to ../../models/lstm_model.h5\n",
      "Epoch 3/20\n",
      "2503/2503 [==============================] - 1s 267us/step - loss: 1.9312 - accuracy: 0.2881 - val_loss: 1.9072 - val_accuracy: 0.3405\n",
      "\n",
      "Epoch 00003: val_loss improved from 1.93868 to 1.90723, saving model to ../../models/lstm_model.h5\n",
      "Epoch 4/20\n",
      "2503/2503 [==============================] - 1s 278us/step - loss: 1.8339 - accuracy: 0.3492 - val_loss: 1.6446 - val_accuracy: 0.3835\n",
      "\n",
      "Epoch 00004: val_loss improved from 1.90723 to 1.64461, saving model to ../../models/lstm_model.h5\n",
      "Epoch 5/20\n",
      "2503/2503 [==============================] - 1s 271us/step - loss: 1.4088 - accuracy: 0.4838 - val_loss: 1.0361 - val_accuracy: 0.6201\n",
      "\n",
      "Epoch 00005: val_loss improved from 1.64461 to 1.03609, saving model to ../../models/lstm_model.h5\n",
      "Epoch 6/20\n",
      "2503/2503 [==============================] - 1s 293us/step - loss: 0.9926 - accuracy: 0.6225 - val_loss: 0.8130 - val_accuracy: 0.6774\n",
      "\n",
      "Epoch 00006: val_loss improved from 1.03609 to 0.81299, saving model to ../../models/lstm_model.h5\n",
      "Epoch 7/20\n",
      "2503/2503 [==============================] - 1s 308us/step - loss: 0.7738 - accuracy: 0.7036 - val_loss: 0.7385 - val_accuracy: 0.7097\n",
      "\n",
      "Epoch 00007: val_loss improved from 0.81299 to 0.73847, saving model to ../../models/lstm_model.h5\n",
      "Epoch 8/20\n",
      "2503/2503 [==============================] - 1s 332us/step - loss: 0.6610 - accuracy: 0.7571 - val_loss: 0.7031 - val_accuracy: 0.7168\n",
      "\n",
      "Epoch 00008: val_loss improved from 0.73847 to 0.70307, saving model to ../../models/lstm_model.h5\n",
      "Epoch 9/20\n",
      "2503/2503 [==============================] - 1s 297us/step - loss: 0.5763 - accuracy: 0.7895 - val_loss: 0.6817 - val_accuracy: 0.7563\n",
      "\n",
      "Epoch 00009: val_loss improved from 0.70307 to 0.68167, saving model to ../../models/lstm_model.h5\n",
      "Epoch 10/20\n",
      "2503/2503 [==============================] - 1s 302us/step - loss: 0.4932 - accuracy: 0.8226 - val_loss: 0.7026 - val_accuracy: 0.7563\n",
      "\n",
      "Epoch 00010: val_loss did not improve from 0.68167\n",
      "Epoch 11/20\n",
      "2503/2503 [==============================] - 1s 295us/step - loss: 0.4348 - accuracy: 0.8486 - val_loss: 0.6982 - val_accuracy: 0.7634\n",
      "\n",
      "Epoch 00011: val_loss did not improve from 0.68167\n",
      "Epoch 12/20\n",
      "2503/2503 [==============================] - 1s 295us/step - loss: 0.4102 - accuracy: 0.8570 - val_loss: 0.6992 - val_accuracy: 0.7670\n",
      "\n",
      "Epoch 00012: val_loss did not improve from 0.68167\n",
      "Epoch 13/20\n",
      "2503/2503 [==============================] - 1s 285us/step - loss: 0.3680 - accuracy: 0.8757 - val_loss: 0.7397 - val_accuracy: 0.7706\n",
      "\n",
      "Epoch 00013: val_loss did not improve from 0.68167\n",
      "Epoch 14/20\n",
      "2503/2503 [==============================] - 1s 317us/step - loss: 0.3259 - accuracy: 0.8853 - val_loss: 0.7505 - val_accuracy: 0.7634\n",
      "\n",
      "Epoch 00014: val_loss did not improve from 0.68167\n",
      "Epoch 00014: early stopping\n",
      "310/310 [==============================] - 0s 149us/step\n",
      "Val Score:  [0.8881609332176947, 0.7548387050628662]\n",
      "====================================================================================\n",
      "\n",
      "\n",
      "Training on Fold:  2\n",
      "Train on 2503 samples, validate on 279 samples\n",
      "Epoch 1/20\n",
      "2503/2503 [==============================] - 1s 320us/step - loss: 0.4045 - accuracy: 0.8765 - val_loss: 0.3463 - val_accuracy: 0.9247\n",
      "\n",
      "Epoch 00001: val_loss improved from 0.68167 to 0.34631, saving model to ../../models/lstm_model.h5\n",
      "Epoch 2/20\n",
      "2503/2503 [==============================] - 1s 297us/step - loss: 0.3816 - accuracy: 0.8789 - val_loss: 0.3533 - val_accuracy: 0.9211\n",
      "\n",
      "Epoch 00002: val_loss did not improve from 0.34631\n",
      "Epoch 3/20\n",
      "2503/2503 [==============================] - 1s 313us/step - loss: 0.3358 - accuracy: 0.8893 - val_loss: 0.3594 - val_accuracy: 0.9176\n",
      "\n",
      "Epoch 00003: val_loss did not improve from 0.34631\n",
      "Epoch 4/20\n",
      "2503/2503 [==============================] - 1s 374us/step - loss: 0.3062 - accuracy: 0.9025 - val_loss: 0.3653 - val_accuracy: 0.9104\n",
      "\n",
      "Epoch 00004: val_loss did not improve from 0.34631\n",
      "Epoch 5/20\n",
      "2503/2503 [==============================] - 1s 306us/step - loss: 0.2754 - accuracy: 0.9085 - val_loss: 0.3767 - val_accuracy: 0.9068\n",
      "\n",
      "Epoch 00005: val_loss did not improve from 0.34631\n",
      "Epoch 6/20\n",
      "2503/2503 [==============================] - 1s 302us/step - loss: 0.2620 - accuracy: 0.9101 - val_loss: 0.3925 - val_accuracy: 0.8961\n",
      "\n",
      "Epoch 00006: val_loss did not improve from 0.34631\n",
      "Epoch 00006: early stopping\n",
      "310/310 [==============================] - 0s 165us/step\n",
      "Val Score:  [0.37527541518211366, 0.8709677457809448]\n",
      "====================================================================================\n",
      "\n",
      "\n",
      "Training on Fold:  3\n",
      "Train on 2503 samples, validate on 279 samples\n",
      "Epoch 1/20\n",
      "2503/2503 [==============================] - 1s 370us/step - loss: 0.2662 - accuracy: 0.9093 - val_loss: 0.2248 - val_accuracy: 0.9355\n",
      "\n",
      "Epoch 00001: val_loss improved from 0.34631 to 0.22478, saving model to ../../models/lstm_model.h5\n",
      "Epoch 2/20\n",
      "2503/2503 [==============================] - 1s 314us/step - loss: 0.2462 - accuracy: 0.9225 - val_loss: 0.2322 - val_accuracy: 0.9319\n",
      "\n",
      "Epoch 00002: val_loss did not improve from 0.22478\n",
      "Epoch 3/20\n",
      "2503/2503 [==============================] - 1s 321us/step - loss: 0.2300 - accuracy: 0.9229 - val_loss: 0.2481 - val_accuracy: 0.9104\n",
      "\n",
      "Epoch 00003: val_loss did not improve from 0.22478\n",
      "Epoch 4/20\n",
      "2503/2503 [==============================] - 1s 343us/step - loss: 0.2114 - accuracy: 0.9381 - val_loss: 0.2825 - val_accuracy: 0.8853\n",
      "\n",
      "Epoch 00004: val_loss did not improve from 0.22478\n",
      "Epoch 5/20\n",
      "2503/2503 [==============================] - 1s 321us/step - loss: 0.1968 - accuracy: 0.9449 - val_loss: 0.2841 - val_accuracy: 0.8889\n",
      "\n",
      "Epoch 00005: val_loss did not improve from 0.22478\n",
      "Epoch 6/20\n",
      "2503/2503 [==============================] - 1s 314us/step - loss: 0.1886 - accuracy: 0.9409 - val_loss: 0.3174 - val_accuracy: 0.8853\n",
      "\n",
      "Epoch 00006: val_loss did not improve from 0.22478\n",
      "Epoch 00006: early stopping\n",
      "310/310 [==============================] - 0s 171us/step\n",
      "Val Score:  [0.31874888789269235, 0.9064516425132751]\n",
      "====================================================================================\n",
      "\n",
      "\n"
     ]
    }
   ],
   "source": [
    "n_folds=3\n",
    "epochs=20\n",
    "batch_size=128\n",
    "\n",
    "#save the model history in a list after fitting so that we can plot later\n",
    "model_history_lstm = [] \n",
    "\n",
    "for i in range(n_folds):\n",
    "    print(\"Training on Fold: \",i+1)\n",
    "    t_x, val_x, t_y, val_y = train_test_split(X_train_lstm, Y_train, test_size=0.1, \n",
    "                                               random_state = np.random.randint(1,1000, 1)[0])\n",
    "    model_history_lstm.append(fit_and_evaluate_lstm(t_x, val_x, t_y, val_y, epochs, batch_size))\n",
    "    print(\"=======\"*12, end=\"\\n\\n\\n\")"
   ]
  },
  {
   "cell_type": "code",
   "execution_count": 71,
   "metadata": {},
   "outputs": [
    {
     "data": {
      "image/png": "[encoded data removed]",
      "text/plain": [
       "<Figure size 432x288 with 1 Axes>"
      ]
     },
     "metadata": {
      "needs_background": "light"
     },
     "output_type": "display_data"
    }
   ],
   "source": [
    "plt.title('Accuracies vs Epochs')\n",
    "plt.plot(model_history_lstm[0].history['accuracy'], label='Training Fold 1')\n",
    "plt.plot(model_history_lstm[1].history['accuracy'], label='Training Fold 2')\n",
    "plt.plot(model_history_lstm[2].history['accuracy'], label='Training Fold 3')\n",
    "plt.legend()\n",
    "plt.show()"
   ]
  },
  {
   "cell_type": "code",
   "execution_count": 72,
   "metadata": {},
   "outputs": [
    {
     "data": {
      "image/png": "[encoded data removed]",
      "text/plain": [
       "<Figure size 432x288 with 1 Axes>"
      ]
     },
     "metadata": {
      "needs_background": "light"
     },
     "output_type": "display_data"
    }
   ],
   "source": [
    "plt.title('Train Accuracy vs Val Accuracy')\n",
    "plt.plot(model_history_lstm[0].history['loss'], label='Train Loss Fold 1', color='black')\n",
    "plt.plot(model_history_lstm[0].history['val_loss'], label='Val Loss Fold 1', color='black', linestyle = \"dashdot\")\n",
    "plt.plot(model_history_lstm[1].history['loss'], label='Train Loss Fold 2', color='red', )\n",
    "plt.plot(model_history_lstm[1].history['val_loss'], label='Val Loss Fold 2', color='red', linestyle = \"dashdot\")\n",
    "plt.plot(model_history_lstm[2].history['loss'], label='Train Loss Fold 3', color='green', )\n",
    "plt.plot(model_history_lstm[2].history['val_loss'], label='Val Loss Fold 3', color='green', linestyle = \"dashdot\")\n",
    "plt.legend()\n",
    "plt.show()"
   ]
  },
  {
   "cell_type": "code",
   "execution_count": 73,
   "metadata": {},
   "outputs": [],
   "source": [
    "lstm_model = load_model('../../models/lstm_model.h5')"
   ]
  },
  {
   "cell_type": "code",
   "execution_count": 74,
   "metadata": {},
   "outputs": [],
   "source": [
    "predict_lstm = lstm_model.predict(X_test_lstm)"
   ]
  },
  {
   "cell_type": "code",
   "execution_count": 75,
   "metadata": {},
   "outputs": [
    {
     "name": "stdout",
     "output_type": "stream",
     "text": [
      "[[100   5   3   3   3   4   1]\n",
      " [  6 106   1   1   2   2   0]\n",
      " [  2   0  69   1   2   5  14]\n",
      " [  3   2  11  72   2   0   7]\n",
      " [  2   3   2   1 112   0   1]\n",
      " [  8   5   6   1   1  94   4]\n",
      " [  0   1  10   5   3   3  88]]\n"
     ]
    }
   ],
   "source": [
    "print(confusion_matrix(np.argmax(Y_test, axis=1), np.argmax(predict_lstm, axis=1)))"
   ]
  },
  {
   "cell_type": "code",
   "execution_count": 76,
   "metadata": {},
   "outputs": [
    {
     "name": "stdout",
     "output_type": "stream",
     "text": [
      "              precision    recall  f1-score   support\n",
      "\n",
      "           0       0.83      0.84      0.83       119\n",
      "           1       0.87      0.90      0.88       118\n",
      "           2       0.68      0.74      0.71        93\n",
      "           3       0.86      0.74      0.80        97\n",
      "           4       0.90      0.93      0.91       121\n",
      "           5       0.87      0.79      0.83       119\n",
      "           6       0.77      0.80      0.78       110\n",
      "\n",
      "    accuracy                           0.82       777\n",
      "   macro avg       0.82      0.82      0.82       777\n",
      "weighted avg       0.83      0.82      0.83       777\n",
      "\n"
     ]
    }
   ],
   "source": [
    "print(classification_report(np.argmax(Y_test, axis=1), np.argmax(predict_lstm, axis=1)))"
   ]
  },
  {
   "cell_type": "code",
   "execution_count": 77,
   "metadata": {},
   "outputs": [
    {
     "data": {
      "image/png": "[encoded data removed]",
      "text/plain": [
       "<Figure size 432x288 with 1 Axes>"
      ]
     },
     "metadata": {
      "needs_background": "light"
     },
     "output_type": "display_data"
    }
   ],
   "source": [
    "preprocces_model.plot_precision_recall_curve(np.argmax(predict_lstm, axis=1),np.argmax(Y_test, axis=1))"
   ]
  },
  {
   "cell_type": "markdown",
   "metadata": {},
   "source": [
    "## Comparing the performance of the two models it was decided to stick with the CNN model using the metrics Precision VS Recall"
   ]
  },
  {
   "cell_type": "code",
   "execution_count": 78,
   "metadata": {},
   "outputs": [],
   "source": [
    "cnn_model.save(\"../../models/model_cnn.h5\")"
   ]
  },
  {
   "cell_type": "markdown",
   "metadata": {},
   "source": [
    "# Some documents to test the model "
   ]
  },
  {
   "cell_type": "code",
   "execution_count": 83,
   "metadata": {},
   "outputs": [
    {
     "data": {
      "text/plain": [
       "array(['178365', '60919', '104572', '60841', '54564'], dtype=object)"
      ]
     },
     "execution_count": 83,
     "metadata": {},
     "output_type": "execute_result"
    }
   ],
   "source": [
    "docs = np.random.choice(df.documentName[X_Test.index], 5)\n",
    "docs"
   ]
  },
  {
   "cell_type": "code",
   "execution_count": 84,
   "metadata": {},
   "outputs": [
    {
     "data": {
      "text/html": [
       "<div>\n",
       "<style scoped>\n",
       "    .dataframe tbody tr th:only-of-type {\n",
       "        vertical-align: middle;\n",
       "    }\n",
       "\n",
       "    .dataframe tbody tr th {\n",
       "        vertical-align: top;\n",
       "    }\n",
       "\n",
       "    .dataframe thead th {\n",
       "        text-align: right;\n",
       "    }\n",
       "</style>\n",
       "<table border=\"1\" class=\"dataframe\">\n",
       "  <thead>\n",
       "    <tr style=\"text-align: right;\">\n",
       "      <th></th>\n",
       "      <th>Text</th>\n",
       "      <th>label</th>\n",
       "      <th>documentName</th>\n",
       "      <th>Cleaned_text</th>\n",
       "      <th>number_words</th>\n",
       "      <th>number_unique_words</th>\n",
       "    </tr>\n",
       "  </thead>\n",
       "  <tbody>\n",
       "    <tr>\n",
       "      <th>1378</th>\n",
       "      <td>\\nIn article &lt;C5M2F9.GEB@news.iastate.edu&gt; atb...</td>\n",
       "      <td>intelligence</td>\n",
       "      <td>178365</td>\n",
       "      <td>article aaron boyken writes state local sales ...</td>\n",
       "      <td>65</td>\n",
       "      <td>46</td>\n",
       "    </tr>\n",
       "  </tbody>\n",
       "</table>\n",
       "</div>"
      ],
      "text/plain": [
       "                                                   Text         label  \\\n",
       "1378  \\nIn article <C5M2F9.GEB@news.iastate.edu> atb...  intelligence   \n",
       "\n",
       "     documentName                                       Cleaned_text  \\\n",
       "1378       178365  article aaron boyken writes state local sales ...   \n",
       "\n",
       "      number_words  number_unique_words  \n",
       "1378            65                   46  "
      ]
     },
     "execution_count": 84,
     "metadata": {},
     "output_type": "execute_result"
    }
   ],
   "source": [
    "df[df['documentName']==docs[0]]"
   ]
  },
  {
   "cell_type": "code",
   "execution_count": 85,
   "metadata": {},
   "outputs": [
    {
     "data": {
      "text/html": [
       "<div>\n",
       "<style scoped>\n",
       "    .dataframe tbody tr th:only-of-type {\n",
       "        vertical-align: middle;\n",
       "    }\n",
       "\n",
       "    .dataframe tbody tr th {\n",
       "        vertical-align: top;\n",
       "    }\n",
       "\n",
       "    .dataframe thead th {\n",
       "        text-align: right;\n",
       "    }\n",
       "</style>\n",
       "<table border=\"1\" class=\"dataframe\">\n",
       "  <thead>\n",
       "    <tr style=\"text-align: right;\">\n",
       "      <th></th>\n",
       "      <th>Text</th>\n",
       "      <th>label</th>\n",
       "      <th>documentName</th>\n",
       "      <th>Cleaned_text</th>\n",
       "      <th>number_words</th>\n",
       "      <th>number_unique_words</th>\n",
       "    </tr>\n",
       "  </thead>\n",
       "  <tbody>\n",
       "    <tr>\n",
       "      <th>263</th>\n",
       "      <td>\\nIn article &lt;C5r2DK.764@skates.gsfc.nasa.gov&gt;...</td>\n",
       "      <td>exploration</td>\n",
       "      <td>60919</td>\n",
       "      <td>article charles divine writes pointer article ...</td>\n",
       "      <td>53</td>\n",
       "      <td>47</td>\n",
       "    </tr>\n",
       "  </tbody>\n",
       "</table>\n",
       "</div>"
      ],
      "text/plain": [
       "                                                  Text        label  \\\n",
       "263  \\nIn article <C5r2DK.764@skates.gsfc.nasa.gov>...  exploration   \n",
       "\n",
       "    documentName                                       Cleaned_text  \\\n",
       "263        60919  article charles divine writes pointer article ...   \n",
       "\n",
       "     number_words  number_unique_words  \n",
       "263            53                   47  "
      ]
     },
     "execution_count": 85,
     "metadata": {},
     "output_type": "execute_result"
    }
   ],
   "source": [
    "df[df['documentName']==docs[1]]"
   ]
  },
  {
   "cell_type": "code",
   "execution_count": 86,
   "metadata": {},
   "outputs": [
    {
     "data": {
      "text/html": [
       "<div>\n",
       "<style scoped>\n",
       "    .dataframe tbody tr th:only-of-type {\n",
       "        vertical-align: middle;\n",
       "    }\n",
       "\n",
       "    .dataframe tbody tr th {\n",
       "        vertical-align: top;\n",
       "    }\n",
       "\n",
       "    .dataframe thead th {\n",
       "        text-align: right;\n",
       "    }\n",
       "</style>\n",
       "<table border=\"1\" class=\"dataframe\">\n",
       "  <thead>\n",
       "    <tr style=\"text-align: right;\">\n",
       "      <th></th>\n",
       "      <th>Text</th>\n",
       "      <th>label</th>\n",
       "      <th>documentName</th>\n",
       "      <th>Cleaned_text</th>\n",
       "      <th>number_words</th>\n",
       "      <th>number_unique_words</th>\n",
       "    </tr>\n",
       "  </thead>\n",
       "  <tbody>\n",
       "    <tr>\n",
       "      <th>2550</th>\n",
       "      <td>From: CROSEN1@ua1vm.ua.edu (Charles Rosen)\\nSu...</td>\n",
       "      <td>politics</td>\n",
       "      <td>104572</td>\n",
       "      <td>charles rosen subject torre worst manager nntp...</td>\n",
       "      <td>224</td>\n",
       "      <td>166</td>\n",
       "    </tr>\n",
       "  </tbody>\n",
       "</table>\n",
       "</div>"
      ],
      "text/plain": [
       "                                                   Text     label  \\\n",
       "2550  From: CROSEN1@ua1vm.ua.edu (Charles Rosen)\\nSu...  politics   \n",
       "\n",
       "     documentName                                       Cleaned_text  \\\n",
       "2550       104572  charles rosen subject torre worst manager nntp...   \n",
       "\n",
       "      number_words  number_unique_words  \n",
       "2550           224                  166  "
      ]
     },
     "execution_count": 86,
     "metadata": {},
     "output_type": "execute_result"
    }
   ],
   "source": [
    "df[df['documentName']==docs[2]]"
   ]
  },
  {
   "cell_type": "code",
   "execution_count": 87,
   "metadata": {},
   "outputs": [
    {
     "data": {
      "text/html": [
       "<div>\n",
       "<style scoped>\n",
       "    .dataframe tbody tr th:only-of-type {\n",
       "        vertical-align: middle;\n",
       "    }\n",
       "\n",
       "    .dataframe tbody tr th {\n",
       "        vertical-align: top;\n",
       "    }\n",
       "\n",
       "    .dataframe thead th {\n",
       "        text-align: right;\n",
       "    }\n",
       "</style>\n",
       "<table border=\"1\" class=\"dataframe\">\n",
       "  <thead>\n",
       "    <tr style=\"text-align: right;\">\n",
       "      <th></th>\n",
       "      <th>Text</th>\n",
       "      <th>label</th>\n",
       "      <th>documentName</th>\n",
       "      <th>Cleaned_text</th>\n",
       "      <th>number_words</th>\n",
       "      <th>number_unique_words</th>\n",
       "    </tr>\n",
       "  </thead>\n",
       "  <tbody>\n",
       "    <tr>\n",
       "      <th>186</th>\n",
       "      <td>\\n\\nReading from a Amoco Performance Products ...</td>\n",
       "      <td>exploration</td>\n",
       "      <td>60841</td>\n",
       "      <td>reading amoco performance products data sheet ...</td>\n",
       "      <td>192</td>\n",
       "      <td>123</td>\n",
       "    </tr>\n",
       "  </tbody>\n",
       "</table>\n",
       "</div>"
      ],
      "text/plain": [
       "                                                  Text        label  \\\n",
       "186  \\n\\nReading from a Amoco Performance Products ...  exploration   \n",
       "\n",
       "    documentName                                       Cleaned_text  \\\n",
       "186        60841  reading amoco performance products data sheet ...   \n",
       "\n",
       "     number_words  number_unique_words  \n",
       "186           192                  123  "
      ]
     },
     "execution_count": 87,
     "metadata": {},
     "output_type": "execute_result"
    }
   ],
   "source": [
    "df[df['documentName']==docs[3]]"
   ]
  },
  {
   "cell_type": "code",
   "execution_count": 88,
   "metadata": {},
   "outputs": [
    {
     "data": {
      "text/html": [
       "<div>\n",
       "<style scoped>\n",
       "    .dataframe tbody tr th:only-of-type {\n",
       "        vertical-align: middle;\n",
       "    }\n",
       "\n",
       "    .dataframe tbody tr th {\n",
       "        vertical-align: top;\n",
       "    }\n",
       "\n",
       "    .dataframe thead th {\n",
       "        text-align: right;\n",
       "    }\n",
       "</style>\n",
       "<table border=\"1\" class=\"dataframe\">\n",
       "  <thead>\n",
       "    <tr style=\"text-align: right;\">\n",
       "      <th></th>\n",
       "      <th>Text</th>\n",
       "      <th>label</th>\n",
       "      <th>documentName</th>\n",
       "      <th>Cleaned_text</th>\n",
       "      <th>number_words</th>\n",
       "      <th>number_unique_words</th>\n",
       "    </tr>\n",
       "  </thead>\n",
       "  <tbody>\n",
       "    <tr>\n",
       "      <th>3773</th>\n",
       "      <td>\\nIn article &lt;1993Apr16.162447.26289@beaver.cs...</td>\n",
       "      <td>weapons</td>\n",
       "      <td>54564</td>\n",
       "      <td>article stephen graham writes article tavares ...</td>\n",
       "      <td>262</td>\n",
       "      <td>195</td>\n",
       "    </tr>\n",
       "  </tbody>\n",
       "</table>\n",
       "</div>"
      ],
      "text/plain": [
       "                                                   Text    label documentName  \\\n",
       "3773  \\nIn article <1993Apr16.162447.26289@beaver.cs...  weapons        54564   \n",
       "\n",
       "                                           Cleaned_text  number_words  \\\n",
       "3773  article stephen graham writes article tavares ...           262   \n",
       "\n",
       "      number_unique_words  \n",
       "3773                  195  "
      ]
     },
     "execution_count": 88,
     "metadata": {},
     "output_type": "execute_result"
    }
   ],
   "source": [
    "df[df['documentName']==docs[4]]"
   ]
  }
 ],
 "metadata": {
  "kernelspec": {
   "display_name": "Python 3",
   "language": "python",
   "name": "python3"
  },
  "language_info": {
   "codemirror_mode": {
    "name": "ipython",
    "version": 3
   },
   "file_extension": ".py",
   "mimetype": "text/x-python",
   "name": "python",
   "nbconvert_exporter": "python",
   "pygments_lexer": "ipython3",
   "version": "3.6.12"
  }
 },
 "nbformat": 4,
 "nbformat_minor": 4
}
